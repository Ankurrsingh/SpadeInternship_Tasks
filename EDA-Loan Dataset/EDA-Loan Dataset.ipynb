{
 "cells": [
  {
   "cell_type": "markdown",
   "metadata": {},
   "source": [
    "# Problem Statement\n",
    "\n",
    "Introduction\n",
    "Solving this case study will give you an idea about how real business problems are solved using EDA.\n",
    "In this case study, apart from applying the techniques you have learnt in EDA, you will also develop a\n",
    "basic understanding of risk analytics in banking and financial services and understand how data is\n",
    "used to minimise the risk of losing money while lending to customers.\n",
    "\n",
    "# Business Understanding\n",
    "You work for a consumer finance company which specialises in lending various types of loans\n",
    "to urban customers. When the company receives a loan application, the company has to make a\n",
    "decision for loan approval based on the applicant’s profile. Two types of risks are associated with\n",
    "the bank’s decision:\n",
    "\n",
    "• If the applicant is likely to repay the loan, then not approving the loan results in a loss of\n",
    "business to the company\n",
    "\n",
    "• If the applicant is not likely to repay the loan, i.e. he/she is likely to default, then approving\n",
    "the loan may lead to a financial loss for the company\n",
    "\n",
    "\n",
    "The data given below contains the information about past loan applicants and whether they\n",
    "‘defaulted’ or not. The aim is to identify patterns which indicate if a person is likely to default, which\n",
    "may be used for taking actions such as denying the loan, reducing the amount of loan, lending (to\n",
    "risky applicants) at a higher interest rate, etc."
   ]
  },
  {
   "cell_type": "markdown",
   "metadata": {},
   "source": [
    "In this case study, you will use EDA to understand how consumer attributes and loan\n",
    "attributes influence the tendency of default.\n",
    "When a person applies for a loan, there are two types of decisions that could be taken by the\n",
    "company:\n",
    "    \n",
    "1. Loan accepted: If the company approves the loan, there are 3 possible scenarios described\n",
    "below:\n",
    "    \n",
    "o Fully paid: Applicant has fully paid the loan (the principal and the interest rate)\n",
    "    \n",
    "o Current: Applicant is in the process of paying the instalments, i.e. the tenure of the\n",
    "loan is not yet completed. These candidates are not labelled as 'defaulted'.\n",
    "\n",
    "o Charged-off: Applicant has not paid the instalments in due time for a long period of\n",
    "time, i.e. he/she has defaulted on the loan\n",
    "\n",
    "2. Loan rejected: The company had rejected the loan (because the candidate does not meet\n",
    "their requirements etc.). Since the loan was rejected, there is no transactional history of\n",
    "those applicants with the company and so this data is not available with the company (and\n",
    "thus in this dataset)\n"
   ]
  },
  {
   "cell_type": "markdown",
   "metadata": {},
   "source": [
    "# Exploratory Data Analysis\n",
    "\n",
    "Let's start with importing all the required libraries for the analysis."
   ]
  },
  {
   "cell_type": "code",
   "execution_count": 1,
   "metadata": {},
   "outputs": [],
   "source": [
    "import numpy as np\n",
    "import pandas as pd\n",
    "import matplotlib.pyplot as plt \n",
    "import warnings\n",
    "warnings.filterwarnings('ignore')"
   ]
  },
  {
   "cell_type": "code",
   "execution_count": 2,
   "metadata": {},
   "outputs": [],
   "source": [
    "df=pd.read_csv('loan.csv')"
   ]
  },
  {
   "cell_type": "code",
   "execution_count": 3,
   "metadata": {},
   "outputs": [
    {
     "data": {
      "text/html": [
       "<div>\n",
       "<style scoped>\n",
       "    .dataframe tbody tr th:only-of-type {\n",
       "        vertical-align: middle;\n",
       "    }\n",
       "\n",
       "    .dataframe tbody tr th {\n",
       "        vertical-align: top;\n",
       "    }\n",
       "\n",
       "    .dataframe thead th {\n",
       "        text-align: right;\n",
       "    }\n",
       "</style>\n",
       "<table border=\"1\" class=\"dataframe\">\n",
       "  <thead>\n",
       "    <tr style=\"text-align: right;\">\n",
       "      <th></th>\n",
       "      <th>id</th>\n",
       "      <th>member_id</th>\n",
       "      <th>loan_amnt</th>\n",
       "      <th>funded_amnt</th>\n",
       "      <th>funded_amnt_inv</th>\n",
       "      <th>term</th>\n",
       "      <th>int_rate</th>\n",
       "      <th>installment</th>\n",
       "      <th>grade</th>\n",
       "      <th>sub_grade</th>\n",
       "      <th>...</th>\n",
       "      <th>num_tl_90g_dpd_24m</th>\n",
       "      <th>num_tl_op_past_12m</th>\n",
       "      <th>pct_tl_nvr_dlq</th>\n",
       "      <th>percent_bc_gt_75</th>\n",
       "      <th>pub_rec_bankruptcies</th>\n",
       "      <th>tax_liens</th>\n",
       "      <th>tot_hi_cred_lim</th>\n",
       "      <th>total_bal_ex_mort</th>\n",
       "      <th>total_bc_limit</th>\n",
       "      <th>total_il_high_credit_limit</th>\n",
       "    </tr>\n",
       "  </thead>\n",
       "  <tbody>\n",
       "    <tr>\n",
       "      <th>0</th>\n",
       "      <td>1077501</td>\n",
       "      <td>1296599</td>\n",
       "      <td>5000</td>\n",
       "      <td>5000</td>\n",
       "      <td>4975.0</td>\n",
       "      <td>36 months</td>\n",
       "      <td>10.65%</td>\n",
       "      <td>162.87</td>\n",
       "      <td>B</td>\n",
       "      <td>B2</td>\n",
       "      <td>...</td>\n",
       "      <td>NaN</td>\n",
       "      <td>NaN</td>\n",
       "      <td>NaN</td>\n",
       "      <td>NaN</td>\n",
       "      <td>0.0</td>\n",
       "      <td>0.0</td>\n",
       "      <td>NaN</td>\n",
       "      <td>NaN</td>\n",
       "      <td>NaN</td>\n",
       "      <td>NaN</td>\n",
       "    </tr>\n",
       "    <tr>\n",
       "      <th>1</th>\n",
       "      <td>1077430</td>\n",
       "      <td>1314167</td>\n",
       "      <td>2500</td>\n",
       "      <td>2500</td>\n",
       "      <td>2500.0</td>\n",
       "      <td>60 months</td>\n",
       "      <td>15.27%</td>\n",
       "      <td>59.83</td>\n",
       "      <td>C</td>\n",
       "      <td>C4</td>\n",
       "      <td>...</td>\n",
       "      <td>NaN</td>\n",
       "      <td>NaN</td>\n",
       "      <td>NaN</td>\n",
       "      <td>NaN</td>\n",
       "      <td>0.0</td>\n",
       "      <td>0.0</td>\n",
       "      <td>NaN</td>\n",
       "      <td>NaN</td>\n",
       "      <td>NaN</td>\n",
       "      <td>NaN</td>\n",
       "    </tr>\n",
       "    <tr>\n",
       "      <th>2</th>\n",
       "      <td>1077175</td>\n",
       "      <td>1313524</td>\n",
       "      <td>2400</td>\n",
       "      <td>2400</td>\n",
       "      <td>2400.0</td>\n",
       "      <td>36 months</td>\n",
       "      <td>15.96%</td>\n",
       "      <td>84.33</td>\n",
       "      <td>C</td>\n",
       "      <td>C5</td>\n",
       "      <td>...</td>\n",
       "      <td>NaN</td>\n",
       "      <td>NaN</td>\n",
       "      <td>NaN</td>\n",
       "      <td>NaN</td>\n",
       "      <td>0.0</td>\n",
       "      <td>0.0</td>\n",
       "      <td>NaN</td>\n",
       "      <td>NaN</td>\n",
       "      <td>NaN</td>\n",
       "      <td>NaN</td>\n",
       "    </tr>\n",
       "    <tr>\n",
       "      <th>3</th>\n",
       "      <td>1076863</td>\n",
       "      <td>1277178</td>\n",
       "      <td>10000</td>\n",
       "      <td>10000</td>\n",
       "      <td>10000.0</td>\n",
       "      <td>36 months</td>\n",
       "      <td>13.49%</td>\n",
       "      <td>339.31</td>\n",
       "      <td>C</td>\n",
       "      <td>C1</td>\n",
       "      <td>...</td>\n",
       "      <td>NaN</td>\n",
       "      <td>NaN</td>\n",
       "      <td>NaN</td>\n",
       "      <td>NaN</td>\n",
       "      <td>0.0</td>\n",
       "      <td>0.0</td>\n",
       "      <td>NaN</td>\n",
       "      <td>NaN</td>\n",
       "      <td>NaN</td>\n",
       "      <td>NaN</td>\n",
       "    </tr>\n",
       "    <tr>\n",
       "      <th>4</th>\n",
       "      <td>1075358</td>\n",
       "      <td>1311748</td>\n",
       "      <td>3000</td>\n",
       "      <td>3000</td>\n",
       "      <td>3000.0</td>\n",
       "      <td>60 months</td>\n",
       "      <td>12.69%</td>\n",
       "      <td>67.79</td>\n",
       "      <td>B</td>\n",
       "      <td>B5</td>\n",
       "      <td>...</td>\n",
       "      <td>NaN</td>\n",
       "      <td>NaN</td>\n",
       "      <td>NaN</td>\n",
       "      <td>NaN</td>\n",
       "      <td>0.0</td>\n",
       "      <td>0.0</td>\n",
       "      <td>NaN</td>\n",
       "      <td>NaN</td>\n",
       "      <td>NaN</td>\n",
       "      <td>NaN</td>\n",
       "    </tr>\n",
       "  </tbody>\n",
       "</table>\n",
       "<p>5 rows × 111 columns</p>\n",
       "</div>"
      ],
      "text/plain": [
       "        id  member_id  loan_amnt  funded_amnt  funded_amnt_inv        term  \\\n",
       "0  1077501    1296599       5000         5000           4975.0   36 months   \n",
       "1  1077430    1314167       2500         2500           2500.0   60 months   \n",
       "2  1077175    1313524       2400         2400           2400.0   36 months   \n",
       "3  1076863    1277178      10000        10000          10000.0   36 months   \n",
       "4  1075358    1311748       3000         3000           3000.0   60 months   \n",
       "\n",
       "  int_rate  installment grade sub_grade  ... num_tl_90g_dpd_24m  \\\n",
       "0   10.65%       162.87     B        B2  ...                NaN   \n",
       "1   15.27%        59.83     C        C4  ...                NaN   \n",
       "2   15.96%        84.33     C        C5  ...                NaN   \n",
       "3   13.49%       339.31     C        C1  ...                NaN   \n",
       "4   12.69%        67.79     B        B5  ...                NaN   \n",
       "\n",
       "  num_tl_op_past_12m pct_tl_nvr_dlq  percent_bc_gt_75 pub_rec_bankruptcies  \\\n",
       "0                NaN            NaN               NaN                  0.0   \n",
       "1                NaN            NaN               NaN                  0.0   \n",
       "2                NaN            NaN               NaN                  0.0   \n",
       "3                NaN            NaN               NaN                  0.0   \n",
       "4                NaN            NaN               NaN                  0.0   \n",
       "\n",
       "  tax_liens tot_hi_cred_lim total_bal_ex_mort total_bc_limit  \\\n",
       "0       0.0             NaN               NaN            NaN   \n",
       "1       0.0             NaN               NaN            NaN   \n",
       "2       0.0             NaN               NaN            NaN   \n",
       "3       0.0             NaN               NaN            NaN   \n",
       "4       0.0             NaN               NaN            NaN   \n",
       "\n",
       "  total_il_high_credit_limit  \n",
       "0                        NaN  \n",
       "1                        NaN  \n",
       "2                        NaN  \n",
       "3                        NaN  \n",
       "4                        NaN  \n",
       "\n",
       "[5 rows x 111 columns]"
      ]
     },
     "execution_count": 3,
     "metadata": {},
     "output_type": "execute_result"
    }
   ],
   "source": [
    "df.head(5)"
   ]
  },
  {
   "cell_type": "code",
   "execution_count": 4,
   "metadata": {},
   "outputs": [
    {
     "data": {
      "text/plain": [
       "(39717, 111)"
      ]
     },
     "execution_count": 4,
     "metadata": {},
     "output_type": "execute_result"
    }
   ],
   "source": [
    "df.shape"
   ]
  },
  {
   "cell_type": "code",
   "execution_count": 5,
   "metadata": {},
   "outputs": [
    {
     "name": "stdout",
     "output_type": "stream",
     "text": [
      "<class 'pandas.core.frame.DataFrame'>\n",
      "RangeIndex: 39717 entries, 0 to 39716\n",
      "Columns: 111 entries, id to total_il_high_credit_limit\n",
      "dtypes: float64(74), int64(13), object(24)\n",
      "memory usage: 33.6+ MB\n"
     ]
    }
   ],
   "source": [
    "df.info()"
   ]
  },
  {
   "cell_type": "code",
   "execution_count": 6,
   "metadata": {},
   "outputs": [
    {
     "data": {
      "text/html": [
       "<div>\n",
       "<style scoped>\n",
       "    .dataframe tbody tr th:only-of-type {\n",
       "        vertical-align: middle;\n",
       "    }\n",
       "\n",
       "    .dataframe tbody tr th {\n",
       "        vertical-align: top;\n",
       "    }\n",
       "\n",
       "    .dataframe thead th {\n",
       "        text-align: right;\n",
       "    }\n",
       "</style>\n",
       "<table border=\"1\" class=\"dataframe\">\n",
       "  <thead>\n",
       "    <tr style=\"text-align: right;\">\n",
       "      <th></th>\n",
       "      <th>id</th>\n",
       "      <th>member_id</th>\n",
       "      <th>loan_amnt</th>\n",
       "      <th>funded_amnt</th>\n",
       "      <th>funded_amnt_inv</th>\n",
       "      <th>installment</th>\n",
       "      <th>annual_inc</th>\n",
       "      <th>dti</th>\n",
       "      <th>delinq_2yrs</th>\n",
       "      <th>inq_last_6mths</th>\n",
       "      <th>...</th>\n",
       "      <th>num_tl_90g_dpd_24m</th>\n",
       "      <th>num_tl_op_past_12m</th>\n",
       "      <th>pct_tl_nvr_dlq</th>\n",
       "      <th>percent_bc_gt_75</th>\n",
       "      <th>pub_rec_bankruptcies</th>\n",
       "      <th>tax_liens</th>\n",
       "      <th>tot_hi_cred_lim</th>\n",
       "      <th>total_bal_ex_mort</th>\n",
       "      <th>total_bc_limit</th>\n",
       "      <th>total_il_high_credit_limit</th>\n",
       "    </tr>\n",
       "  </thead>\n",
       "  <tbody>\n",
       "    <tr>\n",
       "      <th>count</th>\n",
       "      <td>3.971700e+04</td>\n",
       "      <td>3.971700e+04</td>\n",
       "      <td>39717.000000</td>\n",
       "      <td>39717.000000</td>\n",
       "      <td>39717.000000</td>\n",
       "      <td>39717.000000</td>\n",
       "      <td>3.971700e+04</td>\n",
       "      <td>39717.000000</td>\n",
       "      <td>39717.000000</td>\n",
       "      <td>39717.000000</td>\n",
       "      <td>...</td>\n",
       "      <td>0.0</td>\n",
       "      <td>0.0</td>\n",
       "      <td>0.0</td>\n",
       "      <td>0.0</td>\n",
       "      <td>39020.000000</td>\n",
       "      <td>39678.0</td>\n",
       "      <td>0.0</td>\n",
       "      <td>0.0</td>\n",
       "      <td>0.0</td>\n",
       "      <td>0.0</td>\n",
       "    </tr>\n",
       "    <tr>\n",
       "      <th>mean</th>\n",
       "      <td>6.831319e+05</td>\n",
       "      <td>8.504636e+05</td>\n",
       "      <td>11219.443815</td>\n",
       "      <td>10947.713196</td>\n",
       "      <td>10397.448868</td>\n",
       "      <td>324.561922</td>\n",
       "      <td>6.896893e+04</td>\n",
       "      <td>13.315130</td>\n",
       "      <td>0.146512</td>\n",
       "      <td>0.869200</td>\n",
       "      <td>...</td>\n",
       "      <td>NaN</td>\n",
       "      <td>NaN</td>\n",
       "      <td>NaN</td>\n",
       "      <td>NaN</td>\n",
       "      <td>0.043260</td>\n",
       "      <td>0.0</td>\n",
       "      <td>NaN</td>\n",
       "      <td>NaN</td>\n",
       "      <td>NaN</td>\n",
       "      <td>NaN</td>\n",
       "    </tr>\n",
       "    <tr>\n",
       "      <th>std</th>\n",
       "      <td>2.106941e+05</td>\n",
       "      <td>2.656783e+05</td>\n",
       "      <td>7456.670694</td>\n",
       "      <td>7187.238670</td>\n",
       "      <td>7128.450439</td>\n",
       "      <td>208.874874</td>\n",
       "      <td>6.379377e+04</td>\n",
       "      <td>6.678594</td>\n",
       "      <td>0.491812</td>\n",
       "      <td>1.070219</td>\n",
       "      <td>...</td>\n",
       "      <td>NaN</td>\n",
       "      <td>NaN</td>\n",
       "      <td>NaN</td>\n",
       "      <td>NaN</td>\n",
       "      <td>0.204324</td>\n",
       "      <td>0.0</td>\n",
       "      <td>NaN</td>\n",
       "      <td>NaN</td>\n",
       "      <td>NaN</td>\n",
       "      <td>NaN</td>\n",
       "    </tr>\n",
       "    <tr>\n",
       "      <th>min</th>\n",
       "      <td>5.473400e+04</td>\n",
       "      <td>7.069900e+04</td>\n",
       "      <td>500.000000</td>\n",
       "      <td>500.000000</td>\n",
       "      <td>0.000000</td>\n",
       "      <td>15.690000</td>\n",
       "      <td>4.000000e+03</td>\n",
       "      <td>0.000000</td>\n",
       "      <td>0.000000</td>\n",
       "      <td>0.000000</td>\n",
       "      <td>...</td>\n",
       "      <td>NaN</td>\n",
       "      <td>NaN</td>\n",
       "      <td>NaN</td>\n",
       "      <td>NaN</td>\n",
       "      <td>0.000000</td>\n",
       "      <td>0.0</td>\n",
       "      <td>NaN</td>\n",
       "      <td>NaN</td>\n",
       "      <td>NaN</td>\n",
       "      <td>NaN</td>\n",
       "    </tr>\n",
       "    <tr>\n",
       "      <th>25%</th>\n",
       "      <td>5.162210e+05</td>\n",
       "      <td>6.667800e+05</td>\n",
       "      <td>5500.000000</td>\n",
       "      <td>5400.000000</td>\n",
       "      <td>5000.000000</td>\n",
       "      <td>167.020000</td>\n",
       "      <td>4.040400e+04</td>\n",
       "      <td>8.170000</td>\n",
       "      <td>0.000000</td>\n",
       "      <td>0.000000</td>\n",
       "      <td>...</td>\n",
       "      <td>NaN</td>\n",
       "      <td>NaN</td>\n",
       "      <td>NaN</td>\n",
       "      <td>NaN</td>\n",
       "      <td>0.000000</td>\n",
       "      <td>0.0</td>\n",
       "      <td>NaN</td>\n",
       "      <td>NaN</td>\n",
       "      <td>NaN</td>\n",
       "      <td>NaN</td>\n",
       "    </tr>\n",
       "    <tr>\n",
       "      <th>50%</th>\n",
       "      <td>6.656650e+05</td>\n",
       "      <td>8.508120e+05</td>\n",
       "      <td>10000.000000</td>\n",
       "      <td>9600.000000</td>\n",
       "      <td>8975.000000</td>\n",
       "      <td>280.220000</td>\n",
       "      <td>5.900000e+04</td>\n",
       "      <td>13.400000</td>\n",
       "      <td>0.000000</td>\n",
       "      <td>1.000000</td>\n",
       "      <td>...</td>\n",
       "      <td>NaN</td>\n",
       "      <td>NaN</td>\n",
       "      <td>NaN</td>\n",
       "      <td>NaN</td>\n",
       "      <td>0.000000</td>\n",
       "      <td>0.0</td>\n",
       "      <td>NaN</td>\n",
       "      <td>NaN</td>\n",
       "      <td>NaN</td>\n",
       "      <td>NaN</td>\n",
       "    </tr>\n",
       "    <tr>\n",
       "      <th>75%</th>\n",
       "      <td>8.377550e+05</td>\n",
       "      <td>1.047339e+06</td>\n",
       "      <td>15000.000000</td>\n",
       "      <td>15000.000000</td>\n",
       "      <td>14400.000000</td>\n",
       "      <td>430.780000</td>\n",
       "      <td>8.230000e+04</td>\n",
       "      <td>18.600000</td>\n",
       "      <td>0.000000</td>\n",
       "      <td>1.000000</td>\n",
       "      <td>...</td>\n",
       "      <td>NaN</td>\n",
       "      <td>NaN</td>\n",
       "      <td>NaN</td>\n",
       "      <td>NaN</td>\n",
       "      <td>0.000000</td>\n",
       "      <td>0.0</td>\n",
       "      <td>NaN</td>\n",
       "      <td>NaN</td>\n",
       "      <td>NaN</td>\n",
       "      <td>NaN</td>\n",
       "    </tr>\n",
       "    <tr>\n",
       "      <th>max</th>\n",
       "      <td>1.077501e+06</td>\n",
       "      <td>1.314167e+06</td>\n",
       "      <td>35000.000000</td>\n",
       "      <td>35000.000000</td>\n",
       "      <td>35000.000000</td>\n",
       "      <td>1305.190000</td>\n",
       "      <td>6.000000e+06</td>\n",
       "      <td>29.990000</td>\n",
       "      <td>11.000000</td>\n",
       "      <td>8.000000</td>\n",
       "      <td>...</td>\n",
       "      <td>NaN</td>\n",
       "      <td>NaN</td>\n",
       "      <td>NaN</td>\n",
       "      <td>NaN</td>\n",
       "      <td>2.000000</td>\n",
       "      <td>0.0</td>\n",
       "      <td>NaN</td>\n",
       "      <td>NaN</td>\n",
       "      <td>NaN</td>\n",
       "      <td>NaN</td>\n",
       "    </tr>\n",
       "  </tbody>\n",
       "</table>\n",
       "<p>8 rows × 87 columns</p>\n",
       "</div>"
      ],
      "text/plain": [
       "                 id     member_id     loan_amnt   funded_amnt  \\\n",
       "count  3.971700e+04  3.971700e+04  39717.000000  39717.000000   \n",
       "mean   6.831319e+05  8.504636e+05  11219.443815  10947.713196   \n",
       "std    2.106941e+05  2.656783e+05   7456.670694   7187.238670   \n",
       "min    5.473400e+04  7.069900e+04    500.000000    500.000000   \n",
       "25%    5.162210e+05  6.667800e+05   5500.000000   5400.000000   \n",
       "50%    6.656650e+05  8.508120e+05  10000.000000   9600.000000   \n",
       "75%    8.377550e+05  1.047339e+06  15000.000000  15000.000000   \n",
       "max    1.077501e+06  1.314167e+06  35000.000000  35000.000000   \n",
       "\n",
       "       funded_amnt_inv   installment    annual_inc           dti  \\\n",
       "count     39717.000000  39717.000000  3.971700e+04  39717.000000   \n",
       "mean      10397.448868    324.561922  6.896893e+04     13.315130   \n",
       "std        7128.450439    208.874874  6.379377e+04      6.678594   \n",
       "min           0.000000     15.690000  4.000000e+03      0.000000   \n",
       "25%        5000.000000    167.020000  4.040400e+04      8.170000   \n",
       "50%        8975.000000    280.220000  5.900000e+04     13.400000   \n",
       "75%       14400.000000    430.780000  8.230000e+04     18.600000   \n",
       "max       35000.000000   1305.190000  6.000000e+06     29.990000   \n",
       "\n",
       "        delinq_2yrs  inq_last_6mths  ...  num_tl_90g_dpd_24m  \\\n",
       "count  39717.000000    39717.000000  ...                 0.0   \n",
       "mean       0.146512        0.869200  ...                 NaN   \n",
       "std        0.491812        1.070219  ...                 NaN   \n",
       "min        0.000000        0.000000  ...                 NaN   \n",
       "25%        0.000000        0.000000  ...                 NaN   \n",
       "50%        0.000000        1.000000  ...                 NaN   \n",
       "75%        0.000000        1.000000  ...                 NaN   \n",
       "max       11.000000        8.000000  ...                 NaN   \n",
       "\n",
       "       num_tl_op_past_12m  pct_tl_nvr_dlq  percent_bc_gt_75  \\\n",
       "count                 0.0             0.0               0.0   \n",
       "mean                  NaN             NaN               NaN   \n",
       "std                   NaN             NaN               NaN   \n",
       "min                   NaN             NaN               NaN   \n",
       "25%                   NaN             NaN               NaN   \n",
       "50%                   NaN             NaN               NaN   \n",
       "75%                   NaN             NaN               NaN   \n",
       "max                   NaN             NaN               NaN   \n",
       "\n",
       "       pub_rec_bankruptcies  tax_liens  tot_hi_cred_lim  total_bal_ex_mort  \\\n",
       "count          39020.000000    39678.0              0.0                0.0   \n",
       "mean               0.043260        0.0              NaN                NaN   \n",
       "std                0.204324        0.0              NaN                NaN   \n",
       "min                0.000000        0.0              NaN                NaN   \n",
       "25%                0.000000        0.0              NaN                NaN   \n",
       "50%                0.000000        0.0              NaN                NaN   \n",
       "75%                0.000000        0.0              NaN                NaN   \n",
       "max                2.000000        0.0              NaN                NaN   \n",
       "\n",
       "       total_bc_limit  total_il_high_credit_limit  \n",
       "count             0.0                         0.0  \n",
       "mean              NaN                         NaN  \n",
       "std               NaN                         NaN  \n",
       "min               NaN                         NaN  \n",
       "25%               NaN                         NaN  \n",
       "50%               NaN                         NaN  \n",
       "75%               NaN                         NaN  \n",
       "max               NaN                         NaN  \n",
       "\n",
       "[8 rows x 87 columns]"
      ]
     },
     "execution_count": 6,
     "metadata": {},
     "output_type": "execute_result"
    }
   ],
   "source": [
    "df.describe()"
   ]
  },
  {
   "cell_type": "code",
   "execution_count": 7,
   "metadata": {},
   "outputs": [
    {
     "data": {
      "text/plain": [
       "Index(['id', 'member_id', 'loan_amnt', 'funded_amnt', 'funded_amnt_inv',\n",
       "       'term', 'int_rate', 'installment', 'grade', 'sub_grade',\n",
       "       ...\n",
       "       'num_tl_90g_dpd_24m', 'num_tl_op_past_12m', 'pct_tl_nvr_dlq',\n",
       "       'percent_bc_gt_75', 'pub_rec_bankruptcies', 'tax_liens',\n",
       "       'tot_hi_cred_lim', 'total_bal_ex_mort', 'total_bc_limit',\n",
       "       'total_il_high_credit_limit'],\n",
       "      dtype='object', length=111)"
      ]
     },
     "execution_count": 7,
     "metadata": {},
     "output_type": "execute_result"
    }
   ],
   "source": [
    "df.columns"
   ]
  },
  {
   "cell_type": "markdown",
   "metadata": {},
   "source": [
    "# Data Cleaning"
   ]
  },
  {
   "cell_type": "code",
   "execution_count": 8,
   "metadata": {},
   "outputs": [
    {
     "data": {
      "text/plain": [
       "id                                0\n",
       "member_id                         0\n",
       "loan_amnt                         0\n",
       "funded_amnt                       0\n",
       "funded_amnt_inv                   0\n",
       "                              ...  \n",
       "tax_liens                        39\n",
       "tot_hi_cred_lim               39717\n",
       "total_bal_ex_mort             39717\n",
       "total_bc_limit                39717\n",
       "total_il_high_credit_limit    39717\n",
       "Length: 111, dtype: int64"
      ]
     },
     "execution_count": 8,
     "metadata": {},
     "output_type": "execute_result"
    }
   ],
   "source": [
    "#checking the null values in each columns\n",
    "df.isnull().sum()"
   ]
  },
  {
   "cell_type": "code",
   "execution_count": 9,
   "metadata": {},
   "outputs": [
    {
     "data": {
      "text/plain": [
       "id                              0.0\n",
       "member_id                       0.0\n",
       "loan_amnt                       0.0\n",
       "funded_amnt                     0.0\n",
       "funded_amnt_inv                 0.0\n",
       "                              ...  \n",
       "tax_liens                       0.0\n",
       "tot_hi_cred_lim               100.0\n",
       "total_bal_ex_mort             100.0\n",
       "total_bc_limit                100.0\n",
       "total_il_high_credit_limit    100.0\n",
       "Length: 111, dtype: float64"
      ]
     },
     "execution_count": 9,
     "metadata": {},
     "output_type": "execute_result"
    }
   ],
   "source": [
    "#percentage of null values in each column\n",
    "round(df.isnull().sum()/len(df.index))*100\n",
    "#from the analysis above we can see that there are columns which actually have 100% null values"
   ]
  },
  {
   "cell_type": "code",
   "execution_count": 10,
   "metadata": {},
   "outputs": [
    {
     "name": "stdout",
     "output_type": "stream",
     "text": [
      "Index(['mths_since_last_record', 'next_pymnt_d', 'mths_since_last_major_derog',\n",
      "       'annual_inc_joint', 'dti_joint', 'verification_status_joint',\n",
      "       'tot_coll_amt', 'tot_cur_bal', 'open_acc_6m', 'open_il_6m',\n",
      "       'open_il_12m', 'open_il_24m', 'mths_since_rcnt_il', 'total_bal_il',\n",
      "       'il_util', 'open_rv_12m', 'open_rv_24m', 'max_bal_bc', 'all_util',\n",
      "       'total_rev_hi_lim', 'inq_fi', 'total_cu_tl', 'inq_last_12m',\n",
      "       'acc_open_past_24mths', 'avg_cur_bal', 'bc_open_to_buy', 'bc_util',\n",
      "       'mo_sin_old_il_acct', 'mo_sin_old_rev_tl_op', 'mo_sin_rcnt_rev_tl_op',\n",
      "       'mo_sin_rcnt_tl', 'mort_acc', 'mths_since_recent_bc',\n",
      "       'mths_since_recent_bc_dlq', 'mths_since_recent_inq',\n",
      "       'mths_since_recent_revol_delinq', 'num_accts_ever_120_pd',\n",
      "       'num_actv_bc_tl', 'num_actv_rev_tl', 'num_bc_sats', 'num_bc_tl',\n",
      "       'num_il_tl', 'num_op_rev_tl', 'num_rev_accts', 'num_rev_tl_bal_gt_0',\n",
      "       'num_sats', 'num_tl_120dpd_2m', 'num_tl_30dpd', 'num_tl_90g_dpd_24m',\n",
      "       'num_tl_op_past_12m', 'pct_tl_nvr_dlq', 'percent_bc_gt_75',\n",
      "       'tot_hi_cred_lim', 'total_bal_ex_mort', 'total_bc_limit',\n",
      "       'total_il_high_credit_limit'],\n",
      "      dtype='object')\n"
     ]
    }
   ],
   "source": [
    "# removing the columns having more than 80% missing values\n",
    "null_columns = df.columns[100*(df.isnull().sum()/len(df.index)) > 80]\n",
    "print(null_columns)"
   ]
  },
  {
   "cell_type": "code",
   "execution_count": 11,
   "metadata": {},
   "outputs": [
    {
     "name": "stdout",
     "output_type": "stream",
     "text": [
      "(39717, 55)\n"
     ]
    }
   ],
   "source": [
    "#dropping the columns which consist more than 80%null values\n",
    "df = df.drop(null_columns, axis=1)\n",
    "print(df.shape)"
   ]
  },
  {
   "cell_type": "code",
   "execution_count": 12,
   "metadata": {},
   "outputs": [
    {
     "data": {
      "text/html": [
       "<div>\n",
       "<style scoped>\n",
       "    .dataframe tbody tr th:only-of-type {\n",
       "        vertical-align: middle;\n",
       "    }\n",
       "\n",
       "    .dataframe tbody tr th {\n",
       "        vertical-align: top;\n",
       "    }\n",
       "\n",
       "    .dataframe thead th {\n",
       "        text-align: right;\n",
       "    }\n",
       "</style>\n",
       "<table border=\"1\" class=\"dataframe\">\n",
       "  <thead>\n",
       "    <tr style=\"text-align: right;\">\n",
       "      <th></th>\n",
       "      <th>id</th>\n",
       "      <th>member_id</th>\n",
       "      <th>loan_amnt</th>\n",
       "      <th>funded_amnt</th>\n",
       "      <th>funded_amnt_inv</th>\n",
       "      <th>term</th>\n",
       "      <th>int_rate</th>\n",
       "      <th>installment</th>\n",
       "      <th>grade</th>\n",
       "      <th>sub_grade</th>\n",
       "      <th>...</th>\n",
       "      <th>last_pymnt_amnt</th>\n",
       "      <th>last_credit_pull_d</th>\n",
       "      <th>collections_12_mths_ex_med</th>\n",
       "      <th>policy_code</th>\n",
       "      <th>application_type</th>\n",
       "      <th>acc_now_delinq</th>\n",
       "      <th>chargeoff_within_12_mths</th>\n",
       "      <th>delinq_amnt</th>\n",
       "      <th>pub_rec_bankruptcies</th>\n",
       "      <th>tax_liens</th>\n",
       "    </tr>\n",
       "  </thead>\n",
       "  <tbody>\n",
       "    <tr>\n",
       "      <th>0</th>\n",
       "      <td>1077501</td>\n",
       "      <td>1296599</td>\n",
       "      <td>5000</td>\n",
       "      <td>5000</td>\n",
       "      <td>4975.0</td>\n",
       "      <td>36 months</td>\n",
       "      <td>10.65%</td>\n",
       "      <td>162.87</td>\n",
       "      <td>B</td>\n",
       "      <td>B2</td>\n",
       "      <td>...</td>\n",
       "      <td>171.62</td>\n",
       "      <td>May-16</td>\n",
       "      <td>0.0</td>\n",
       "      <td>1</td>\n",
       "      <td>INDIVIDUAL</td>\n",
       "      <td>0</td>\n",
       "      <td>0.0</td>\n",
       "      <td>0</td>\n",
       "      <td>0.0</td>\n",
       "      <td>0.0</td>\n",
       "    </tr>\n",
       "    <tr>\n",
       "      <th>1</th>\n",
       "      <td>1077430</td>\n",
       "      <td>1314167</td>\n",
       "      <td>2500</td>\n",
       "      <td>2500</td>\n",
       "      <td>2500.0</td>\n",
       "      <td>60 months</td>\n",
       "      <td>15.27%</td>\n",
       "      <td>59.83</td>\n",
       "      <td>C</td>\n",
       "      <td>C4</td>\n",
       "      <td>...</td>\n",
       "      <td>119.66</td>\n",
       "      <td>Sep-13</td>\n",
       "      <td>0.0</td>\n",
       "      <td>1</td>\n",
       "      <td>INDIVIDUAL</td>\n",
       "      <td>0</td>\n",
       "      <td>0.0</td>\n",
       "      <td>0</td>\n",
       "      <td>0.0</td>\n",
       "      <td>0.0</td>\n",
       "    </tr>\n",
       "    <tr>\n",
       "      <th>2</th>\n",
       "      <td>1077175</td>\n",
       "      <td>1313524</td>\n",
       "      <td>2400</td>\n",
       "      <td>2400</td>\n",
       "      <td>2400.0</td>\n",
       "      <td>36 months</td>\n",
       "      <td>15.96%</td>\n",
       "      <td>84.33</td>\n",
       "      <td>C</td>\n",
       "      <td>C5</td>\n",
       "      <td>...</td>\n",
       "      <td>649.91</td>\n",
       "      <td>May-16</td>\n",
       "      <td>0.0</td>\n",
       "      <td>1</td>\n",
       "      <td>INDIVIDUAL</td>\n",
       "      <td>0</td>\n",
       "      <td>0.0</td>\n",
       "      <td>0</td>\n",
       "      <td>0.0</td>\n",
       "      <td>0.0</td>\n",
       "    </tr>\n",
       "  </tbody>\n",
       "</table>\n",
       "<p>3 rows × 55 columns</p>\n",
       "</div>"
      ],
      "text/plain": [
       "        id  member_id  loan_amnt  funded_amnt  funded_amnt_inv        term  \\\n",
       "0  1077501    1296599       5000         5000           4975.0   36 months   \n",
       "1  1077430    1314167       2500         2500           2500.0   60 months   \n",
       "2  1077175    1313524       2400         2400           2400.0   36 months   \n",
       "\n",
       "  int_rate  installment grade sub_grade  ... last_pymnt_amnt  \\\n",
       "0   10.65%       162.87     B        B2  ...          171.62   \n",
       "1   15.27%        59.83     C        C4  ...          119.66   \n",
       "2   15.96%        84.33     C        C5  ...          649.91   \n",
       "\n",
       "  last_credit_pull_d collections_12_mths_ex_med  policy_code application_type  \\\n",
       "0             May-16                        0.0            1       INDIVIDUAL   \n",
       "1             Sep-13                        0.0            1       INDIVIDUAL   \n",
       "2             May-16                        0.0            1       INDIVIDUAL   \n",
       "\n",
       "  acc_now_delinq chargeoff_within_12_mths delinq_amnt pub_rec_bankruptcies  \\\n",
       "0              0                      0.0           0                  0.0   \n",
       "1              0                      0.0           0                  0.0   \n",
       "2              0                      0.0           0                  0.0   \n",
       "\n",
       "  tax_liens  \n",
       "0       0.0  \n",
       "1       0.0  \n",
       "2       0.0  \n",
       "\n",
       "[3 rows x 55 columns]"
      ]
     },
     "execution_count": 12,
     "metadata": {},
     "output_type": "execute_result"
    }
   ],
   "source": [
    "df.head(3)"
   ]
  },
  {
   "cell_type": "code",
   "execution_count": 13,
   "metadata": {},
   "outputs": [
    {
     "data": {
      "text/plain": [
       "id                             0.000000\n",
       "member_id                      0.000000\n",
       "loan_amnt                      0.000000\n",
       "funded_amnt                    0.000000\n",
       "funded_amnt_inv                0.000000\n",
       "term                           0.000000\n",
       "int_rate                       0.000000\n",
       "installment                    0.000000\n",
       "grade                          0.000000\n",
       "sub_grade                      0.000000\n",
       "emp_title                      6.191303\n",
       "emp_length                     2.706650\n",
       "home_ownership                 0.000000\n",
       "annual_inc                     0.000000\n",
       "verification_status            0.000000\n",
       "issue_d                        0.000000\n",
       "loan_status                    0.000000\n",
       "pymnt_plan                     0.000000\n",
       "url                            0.000000\n",
       "desc                          32.580507\n",
       "purpose                        0.000000\n",
       "title                          0.027696\n",
       "zip_code                       0.000000\n",
       "addr_state                     0.000000\n",
       "dti                            0.000000\n",
       "delinq_2yrs                    0.000000\n",
       "earliest_cr_line               0.000000\n",
       "inq_last_6mths                 0.000000\n",
       "mths_since_last_delinq        64.662487\n",
       "open_acc                       0.000000\n",
       "pub_rec                        0.000000\n",
       "revol_bal                      0.000000\n",
       "revol_util                     0.125891\n",
       "total_acc                      0.000000\n",
       "initial_list_status            0.000000\n",
       "out_prncp                      0.000000\n",
       "out_prncp_inv                  0.000000\n",
       "total_pymnt                    0.000000\n",
       "total_pymnt_inv                0.000000\n",
       "total_rec_prncp                0.000000\n",
       "total_rec_int                  0.000000\n",
       "total_rec_late_fee             0.000000\n",
       "recoveries                     0.000000\n",
       "collection_recovery_fee        0.000000\n",
       "last_pymnt_d                   0.178765\n",
       "last_pymnt_amnt                0.000000\n",
       "last_credit_pull_d             0.005036\n",
       "collections_12_mths_ex_med     0.140998\n",
       "policy_code                    0.000000\n",
       "application_type               0.000000\n",
       "acc_now_delinq                 0.000000\n",
       "chargeoff_within_12_mths       0.140998\n",
       "delinq_amnt                    0.000000\n",
       "pub_rec_bankruptcies           1.754916\n",
       "tax_liens                      0.098195\n",
       "dtype: float64"
      ]
     },
     "execution_count": 13,
     "metadata": {},
     "output_type": "execute_result"
    }
   ],
   "source": [
    "(df.isnull().sum()/len(df.index))*100"
   ]
  },
  {
   "cell_type": "code",
   "execution_count": 14,
   "metadata": {},
   "outputs": [
    {
     "data": {
      "text/html": [
       "<div>\n",
       "<style scoped>\n",
       "    .dataframe tbody tr th:only-of-type {\n",
       "        vertical-align: middle;\n",
       "    }\n",
       "\n",
       "    .dataframe tbody tr th {\n",
       "        vertical-align: top;\n",
       "    }\n",
       "\n",
       "    .dataframe thead th {\n",
       "        text-align: right;\n",
       "    }\n",
       "</style>\n",
       "<table border=\"1\" class=\"dataframe\">\n",
       "  <thead>\n",
       "    <tr style=\"text-align: right;\">\n",
       "      <th></th>\n",
       "      <th>desc</th>\n",
       "    </tr>\n",
       "  </thead>\n",
       "  <tbody>\n",
       "    <tr>\n",
       "      <th>0</th>\n",
       "      <td>Borrower added on 12/22/11 &gt; I need to upgra...</td>\n",
       "    </tr>\n",
       "    <tr>\n",
       "      <th>1</th>\n",
       "      <td>Borrower added on 12/22/11 &gt; I plan to use t...</td>\n",
       "    </tr>\n",
       "    <tr>\n",
       "      <th>2</th>\n",
       "      <td>NaN</td>\n",
       "    </tr>\n",
       "    <tr>\n",
       "      <th>3</th>\n",
       "      <td>Borrower added on 12/21/11 &gt; to pay for prop...</td>\n",
       "    </tr>\n",
       "    <tr>\n",
       "      <th>4</th>\n",
       "      <td>Borrower added on 12/21/11 &gt; I plan on combi...</td>\n",
       "    </tr>\n",
       "  </tbody>\n",
       "</table>\n",
       "</div>"
      ],
      "text/plain": [
       "                                                desc\n",
       "0    Borrower added on 12/22/11 > I need to upgra...\n",
       "1    Borrower added on 12/22/11 > I plan to use t...\n",
       "2                                                NaN\n",
       "3    Borrower added on 12/21/11 > to pay for prop...\n",
       "4    Borrower added on 12/21/11 > I plan on combi..."
      ]
     },
     "execution_count": 14,
     "metadata": {},
     "output_type": "execute_result"
    }
   ],
   "source": [
    "#column \"desc\" and \"mths_since_last_delinq\" have null value around 32% and 65% \n",
    "#column \"emp_title\" also have null value but considering that it will be important component\n",
    "df.loc[:, ['desc']].head()"
   ]
  },
  {
   "cell_type": "code",
   "execution_count": 15,
   "metadata": {},
   "outputs": [
    {
     "data": {
      "text/plain": [
       "0     NaN\n",
       "1     NaN\n",
       "2     NaN\n",
       "3    35.0\n",
       "4    38.0\n",
       "Name: mths_since_last_delinq, dtype: float64"
      ]
     },
     "execution_count": 15,
     "metadata": {},
     "output_type": "execute_result"
    }
   ],
   "source": [
    "df[\"mths_since_last_delinq\"].head(5)"
   ]
  },
  {
   "cell_type": "code",
   "execution_count": 16,
   "metadata": {},
   "outputs": [
    {
     "data": {
      "text/plain": [
       "0                         NaN\n",
       "1                       Ryder\n",
       "2                         NaN\n",
       "3         AIR RESOURCES BOARD\n",
       "4    University Medical Group\n",
       "Name: emp_title, dtype: object"
      ]
     },
     "execution_count": 16,
     "metadata": {},
     "output_type": "execute_result"
    }
   ],
   "source": [
    "df[\"emp_title\"].head(5)"
   ]
  },
  {
   "cell_type": "code",
   "execution_count": 17,
   "metadata": {},
   "outputs": [
    {
     "data": {
      "text/plain": [
       "28820"
      ]
     },
     "execution_count": 17,
     "metadata": {},
     "output_type": "execute_result"
    }
   ],
   "source": [
    "df[\"emp_title\"].nunique()"
   ]
  },
  {
   "cell_type": "code",
   "execution_count": 18,
   "metadata": {},
   "outputs": [],
   "source": [
    "df=df.drop(['mths_since_last_delinq','desc'],axis=1)"
   ]
  },
  {
   "cell_type": "code",
   "execution_count": 19,
   "metadata": {},
   "outputs": [
    {
     "data": {
      "text/html": [
       "<div>\n",
       "<style scoped>\n",
       "    .dataframe tbody tr th:only-of-type {\n",
       "        vertical-align: middle;\n",
       "    }\n",
       "\n",
       "    .dataframe tbody tr th {\n",
       "        vertical-align: top;\n",
       "    }\n",
       "\n",
       "    .dataframe thead th {\n",
       "        text-align: right;\n",
       "    }\n",
       "</style>\n",
       "<table border=\"1\" class=\"dataframe\">\n",
       "  <thead>\n",
       "    <tr style=\"text-align: right;\">\n",
       "      <th></th>\n",
       "      <th>id</th>\n",
       "      <th>member_id</th>\n",
       "      <th>loan_amnt</th>\n",
       "      <th>funded_amnt</th>\n",
       "      <th>funded_amnt_inv</th>\n",
       "      <th>term</th>\n",
       "      <th>int_rate</th>\n",
       "      <th>installment</th>\n",
       "      <th>grade</th>\n",
       "      <th>sub_grade</th>\n",
       "      <th>...</th>\n",
       "      <th>last_pymnt_amnt</th>\n",
       "      <th>last_credit_pull_d</th>\n",
       "      <th>collections_12_mths_ex_med</th>\n",
       "      <th>policy_code</th>\n",
       "      <th>application_type</th>\n",
       "      <th>acc_now_delinq</th>\n",
       "      <th>chargeoff_within_12_mths</th>\n",
       "      <th>delinq_amnt</th>\n",
       "      <th>pub_rec_bankruptcies</th>\n",
       "      <th>tax_liens</th>\n",
       "    </tr>\n",
       "  </thead>\n",
       "  <tbody>\n",
       "    <tr>\n",
       "      <th>0</th>\n",
       "      <td>1077501</td>\n",
       "      <td>1296599</td>\n",
       "      <td>5000</td>\n",
       "      <td>5000</td>\n",
       "      <td>4975.0</td>\n",
       "      <td>36 months</td>\n",
       "      <td>10.65%</td>\n",
       "      <td>162.87</td>\n",
       "      <td>B</td>\n",
       "      <td>B2</td>\n",
       "      <td>...</td>\n",
       "      <td>171.62</td>\n",
       "      <td>May-16</td>\n",
       "      <td>0.0</td>\n",
       "      <td>1</td>\n",
       "      <td>INDIVIDUAL</td>\n",
       "      <td>0</td>\n",
       "      <td>0.0</td>\n",
       "      <td>0</td>\n",
       "      <td>0.0</td>\n",
       "      <td>0.0</td>\n",
       "    </tr>\n",
       "    <tr>\n",
       "      <th>1</th>\n",
       "      <td>1077430</td>\n",
       "      <td>1314167</td>\n",
       "      <td>2500</td>\n",
       "      <td>2500</td>\n",
       "      <td>2500.0</td>\n",
       "      <td>60 months</td>\n",
       "      <td>15.27%</td>\n",
       "      <td>59.83</td>\n",
       "      <td>C</td>\n",
       "      <td>C4</td>\n",
       "      <td>...</td>\n",
       "      <td>119.66</td>\n",
       "      <td>Sep-13</td>\n",
       "      <td>0.0</td>\n",
       "      <td>1</td>\n",
       "      <td>INDIVIDUAL</td>\n",
       "      <td>0</td>\n",
       "      <td>0.0</td>\n",
       "      <td>0</td>\n",
       "      <td>0.0</td>\n",
       "      <td>0.0</td>\n",
       "    </tr>\n",
       "    <tr>\n",
       "      <th>2</th>\n",
       "      <td>1077175</td>\n",
       "      <td>1313524</td>\n",
       "      <td>2400</td>\n",
       "      <td>2400</td>\n",
       "      <td>2400.0</td>\n",
       "      <td>36 months</td>\n",
       "      <td>15.96%</td>\n",
       "      <td>84.33</td>\n",
       "      <td>C</td>\n",
       "      <td>C5</td>\n",
       "      <td>...</td>\n",
       "      <td>649.91</td>\n",
       "      <td>May-16</td>\n",
       "      <td>0.0</td>\n",
       "      <td>1</td>\n",
       "      <td>INDIVIDUAL</td>\n",
       "      <td>0</td>\n",
       "      <td>0.0</td>\n",
       "      <td>0</td>\n",
       "      <td>0.0</td>\n",
       "      <td>0.0</td>\n",
       "    </tr>\n",
       "    <tr>\n",
       "      <th>3</th>\n",
       "      <td>1076863</td>\n",
       "      <td>1277178</td>\n",
       "      <td>10000</td>\n",
       "      <td>10000</td>\n",
       "      <td>10000.0</td>\n",
       "      <td>36 months</td>\n",
       "      <td>13.49%</td>\n",
       "      <td>339.31</td>\n",
       "      <td>C</td>\n",
       "      <td>C1</td>\n",
       "      <td>...</td>\n",
       "      <td>357.48</td>\n",
       "      <td>Apr-16</td>\n",
       "      <td>0.0</td>\n",
       "      <td>1</td>\n",
       "      <td>INDIVIDUAL</td>\n",
       "      <td>0</td>\n",
       "      <td>0.0</td>\n",
       "      <td>0</td>\n",
       "      <td>0.0</td>\n",
       "      <td>0.0</td>\n",
       "    </tr>\n",
       "    <tr>\n",
       "      <th>4</th>\n",
       "      <td>1075358</td>\n",
       "      <td>1311748</td>\n",
       "      <td>3000</td>\n",
       "      <td>3000</td>\n",
       "      <td>3000.0</td>\n",
       "      <td>60 months</td>\n",
       "      <td>12.69%</td>\n",
       "      <td>67.79</td>\n",
       "      <td>B</td>\n",
       "      <td>B5</td>\n",
       "      <td>...</td>\n",
       "      <td>67.79</td>\n",
       "      <td>May-16</td>\n",
       "      <td>0.0</td>\n",
       "      <td>1</td>\n",
       "      <td>INDIVIDUAL</td>\n",
       "      <td>0</td>\n",
       "      <td>0.0</td>\n",
       "      <td>0</td>\n",
       "      <td>0.0</td>\n",
       "      <td>0.0</td>\n",
       "    </tr>\n",
       "  </tbody>\n",
       "</table>\n",
       "<p>5 rows × 53 columns</p>\n",
       "</div>"
      ],
      "text/plain": [
       "        id  member_id  loan_amnt  funded_amnt  funded_amnt_inv        term  \\\n",
       "0  1077501    1296599       5000         5000           4975.0   36 months   \n",
       "1  1077430    1314167       2500         2500           2500.0   60 months   \n",
       "2  1077175    1313524       2400         2400           2400.0   36 months   \n",
       "3  1076863    1277178      10000        10000          10000.0   36 months   \n",
       "4  1075358    1311748       3000         3000           3000.0   60 months   \n",
       "\n",
       "  int_rate  installment grade sub_grade  ... last_pymnt_amnt  \\\n",
       "0   10.65%       162.87     B        B2  ...          171.62   \n",
       "1   15.27%        59.83     C        C4  ...          119.66   \n",
       "2   15.96%        84.33     C        C5  ...          649.91   \n",
       "3   13.49%       339.31     C        C1  ...          357.48   \n",
       "4   12.69%        67.79     B        B5  ...           67.79   \n",
       "\n",
       "  last_credit_pull_d collections_12_mths_ex_med  policy_code application_type  \\\n",
       "0             May-16                        0.0            1       INDIVIDUAL   \n",
       "1             Sep-13                        0.0            1       INDIVIDUAL   \n",
       "2             May-16                        0.0            1       INDIVIDUAL   \n",
       "3             Apr-16                        0.0            1       INDIVIDUAL   \n",
       "4             May-16                        0.0            1       INDIVIDUAL   \n",
       "\n",
       "  acc_now_delinq chargeoff_within_12_mths delinq_amnt pub_rec_bankruptcies  \\\n",
       "0              0                      0.0           0                  0.0   \n",
       "1              0                      0.0           0                  0.0   \n",
       "2              0                      0.0           0                  0.0   \n",
       "3              0                      0.0           0                  0.0   \n",
       "4              0                      0.0           0                  0.0   \n",
       "\n",
       "  tax_liens  \n",
       "0       0.0  \n",
       "1       0.0  \n",
       "2       0.0  \n",
       "3       0.0  \n",
       "4       0.0  \n",
       "\n",
       "[5 rows x 53 columns]"
      ]
     },
     "execution_count": 19,
     "metadata": {},
     "output_type": "execute_result"
    }
   ],
   "source": [
    "df.head(5)"
   ]
  },
  {
   "cell_type": "code",
   "execution_count": 21,
   "metadata": {},
   "outputs": [
    {
     "data": {
      "text/plain": [
       "id                            0.000000\n",
       "member_id                     0.000000\n",
       "loan_amnt                     0.000000\n",
       "funded_amnt                   0.000000\n",
       "funded_amnt_inv               0.000000\n",
       "term                          0.000000\n",
       "int_rate                      0.000000\n",
       "installment                   0.000000\n",
       "grade                         0.000000\n",
       "sub_grade                     0.000000\n",
       "emp_title                     0.061913\n",
       "emp_length                    0.027066\n",
       "home_ownership                0.000000\n",
       "annual_inc                    0.000000\n",
       "verification_status           0.000000\n",
       "issue_d                       0.000000\n",
       "loan_status                   0.000000\n",
       "pymnt_plan                    0.000000\n",
       "url                           0.000000\n",
       "purpose                       0.000000\n",
       "title                         0.000277\n",
       "zip_code                      0.000000\n",
       "addr_state                    0.000000\n",
       "dti                           0.000000\n",
       "delinq_2yrs                   0.000000\n",
       "earliest_cr_line              0.000000\n",
       "inq_last_6mths                0.000000\n",
       "open_acc                      0.000000\n",
       "pub_rec                       0.000000\n",
       "revol_bal                     0.000000\n",
       "revol_util                    0.001259\n",
       "total_acc                     0.000000\n",
       "initial_list_status           0.000000\n",
       "out_prncp                     0.000000\n",
       "out_prncp_inv                 0.000000\n",
       "total_pymnt                   0.000000\n",
       "total_pymnt_inv               0.000000\n",
       "total_rec_prncp               0.000000\n",
       "total_rec_int                 0.000000\n",
       "total_rec_late_fee            0.000000\n",
       "recoveries                    0.000000\n",
       "collection_recovery_fee       0.000000\n",
       "last_pymnt_d                  0.001788\n",
       "last_pymnt_amnt               0.000000\n",
       "last_credit_pull_d            0.000050\n",
       "collections_12_mths_ex_med    0.001410\n",
       "policy_code                   0.000000\n",
       "application_type              0.000000\n",
       "acc_now_delinq                0.000000\n",
       "chargeoff_within_12_mths      0.001410\n",
       "delinq_amnt                   0.000000\n",
       "pub_rec_bankruptcies          0.017549\n",
       "tax_liens                     0.000982\n",
       "dtype: float64"
      ]
     },
     "execution_count": 21,
     "metadata": {},
     "output_type": "execute_result"
    }
   ],
   "source": [
    "(df.isnull().sum()/len(df.index))"
   ]
  },
  {
   "cell_type": "code",
   "execution_count": 22,
   "metadata": {},
   "outputs": [
    {
     "data": {
      "text/plain": [
       "id                               0\n",
       "member_id                        0\n",
       "loan_amnt                        0\n",
       "funded_amnt                      0\n",
       "funded_amnt_inv                  0\n",
       "term                             0\n",
       "int_rate                         0\n",
       "installment                      0\n",
       "grade                            0\n",
       "sub_grade                        0\n",
       "emp_title                     2459\n",
       "emp_length                    1075\n",
       "home_ownership                   0\n",
       "annual_inc                       0\n",
       "verification_status              0\n",
       "issue_d                          0\n",
       "loan_status                      0\n",
       "pymnt_plan                       0\n",
       "url                              0\n",
       "purpose                          0\n",
       "title                           11\n",
       "zip_code                         0\n",
       "addr_state                       0\n",
       "dti                              0\n",
       "delinq_2yrs                      0\n",
       "earliest_cr_line                 0\n",
       "inq_last_6mths                   0\n",
       "open_acc                         0\n",
       "pub_rec                          0\n",
       "revol_bal                        0\n",
       "revol_util                      50\n",
       "total_acc                        0\n",
       "initial_list_status              0\n",
       "out_prncp                        0\n",
       "out_prncp_inv                    0\n",
       "total_pymnt                      0\n",
       "total_pymnt_inv                  0\n",
       "total_rec_prncp                  0\n",
       "total_rec_int                    0\n",
       "total_rec_late_fee               0\n",
       "recoveries                       0\n",
       "collection_recovery_fee          0\n",
       "last_pymnt_d                    71\n",
       "last_pymnt_amnt                  0\n",
       "last_credit_pull_d               2\n",
       "collections_12_mths_ex_med      56\n",
       "policy_code                      0\n",
       "application_type                 0\n",
       "acc_now_delinq                   0\n",
       "chargeoff_within_12_mths        56\n",
       "delinq_amnt                      0\n",
       "pub_rec_bankruptcies           697\n",
       "tax_liens                       39\n",
       "dtype: int64"
      ]
     },
     "execution_count": 22,
     "metadata": {},
     "output_type": "execute_result"
    }
   ],
   "source": [
    "df.isnull().sum() #checking count of null values in each columns"
   ]
  },
  {
   "cell_type": "code",
   "execution_count": 23,
   "metadata": {},
   "outputs": [
    {
     "name": "stdout",
     "output_type": "stream",
     "text": [
      "<class 'pandas.core.frame.DataFrame'>\n",
      "RangeIndex: 39717 entries, 0 to 39716\n",
      "Data columns (total 53 columns):\n",
      " #   Column                      Non-Null Count  Dtype  \n",
      "---  ------                      --------------  -----  \n",
      " 0   id                          39717 non-null  int64  \n",
      " 1   member_id                   39717 non-null  int64  \n",
      " 2   loan_amnt                   39717 non-null  int64  \n",
      " 3   funded_amnt                 39717 non-null  int64  \n",
      " 4   funded_amnt_inv             39717 non-null  float64\n",
      " 5   term                        39717 non-null  object \n",
      " 6   int_rate                    39717 non-null  object \n",
      " 7   installment                 39717 non-null  float64\n",
      " 8   grade                       39717 non-null  object \n",
      " 9   sub_grade                   39717 non-null  object \n",
      " 10  emp_title                   37258 non-null  object \n",
      " 11  emp_length                  38642 non-null  object \n",
      " 12  home_ownership              39717 non-null  object \n",
      " 13  annual_inc                  39717 non-null  float64\n",
      " 14  verification_status         39717 non-null  object \n",
      " 15  issue_d                     39717 non-null  object \n",
      " 16  loan_status                 39717 non-null  object \n",
      " 17  pymnt_plan                  39717 non-null  object \n",
      " 18  url                         39717 non-null  object \n",
      " 19  purpose                     39717 non-null  object \n",
      " 20  title                       39706 non-null  object \n",
      " 21  zip_code                    39717 non-null  object \n",
      " 22  addr_state                  39717 non-null  object \n",
      " 23  dti                         39717 non-null  float64\n",
      " 24  delinq_2yrs                 39717 non-null  int64  \n",
      " 25  earliest_cr_line            39717 non-null  object \n",
      " 26  inq_last_6mths              39717 non-null  int64  \n",
      " 27  open_acc                    39717 non-null  int64  \n",
      " 28  pub_rec                     39717 non-null  int64  \n",
      " 29  revol_bal                   39717 non-null  int64  \n",
      " 30  revol_util                  39667 non-null  object \n",
      " 31  total_acc                   39717 non-null  int64  \n",
      " 32  initial_list_status         39717 non-null  object \n",
      " 33  out_prncp                   39717 non-null  float64\n",
      " 34  out_prncp_inv               39717 non-null  float64\n",
      " 35  total_pymnt                 39717 non-null  float64\n",
      " 36  total_pymnt_inv             39717 non-null  float64\n",
      " 37  total_rec_prncp             39717 non-null  float64\n",
      " 38  total_rec_int               39717 non-null  float64\n",
      " 39  total_rec_late_fee          39717 non-null  float64\n",
      " 40  recoveries                  39717 non-null  float64\n",
      " 41  collection_recovery_fee     39717 non-null  float64\n",
      " 42  last_pymnt_d                39646 non-null  object \n",
      " 43  last_pymnt_amnt             39717 non-null  float64\n",
      " 44  last_credit_pull_d          39715 non-null  object \n",
      " 45  collections_12_mths_ex_med  39661 non-null  float64\n",
      " 46  policy_code                 39717 non-null  int64  \n",
      " 47  application_type            39717 non-null  object \n",
      " 48  acc_now_delinq              39717 non-null  int64  \n",
      " 49  chargeoff_within_12_mths    39661 non-null  float64\n",
      " 50  delinq_amnt                 39717 non-null  int64  \n",
      " 51  pub_rec_bankruptcies        39020 non-null  float64\n",
      " 52  tax_liens                   39678 non-null  float64\n",
      "dtypes: float64(18), int64(13), object(22)\n",
      "memory usage: 16.1+ MB\n"
     ]
    }
   ],
   "source": [
    "df.info()"
   ]
  },
  {
   "cell_type": "code",
   "execution_count": 24,
   "metadata": {},
   "outputs": [
    {
     "data": {
      "text/plain": [
       "0    10.65%\n",
       "1    15.27%\n",
       "2    15.96%\n",
       "3    13.49%\n",
       "4    12.69%\n",
       "Name: int_rate, dtype: object"
      ]
     },
     "execution_count": 24,
     "metadata": {},
     "output_type": "execute_result"
    }
   ],
   "source": [
    "# The column int_rate is character type, let's convert it to float\n",
    "df[\"int_rate\"].head(5)"
   ]
  },
  {
   "cell_type": "code",
   "execution_count": 25,
   "metadata": {},
   "outputs": [],
   "source": [
    "# The column int_rate is character type, let's convert it to float\n",
    "df['int_rate'] = df['int_rate'].apply(lambda x: x.replace(\"%\",''))"
   ]
  },
  {
   "cell_type": "code",
   "execution_count": 26,
   "metadata": {},
   "outputs": [
    {
     "data": {
      "text/plain": [
       "0        10.65\n",
       "1        15.27\n",
       "2        15.96\n",
       "3        13.49\n",
       "4        12.69\n",
       "         ...  \n",
       "39712     8.07\n",
       "39713    10.28\n",
       "39714     8.07\n",
       "39715     7.43\n",
       "39716    13.75\n",
       "Name: int_rate, Length: 39717, dtype: object"
      ]
     },
     "execution_count": 26,
     "metadata": {},
     "output_type": "execute_result"
    }
   ],
   "source": [
    "df['int_rate']"
   ]
  },
  {
   "cell_type": "code",
   "execution_count": 27,
   "metadata": {},
   "outputs": [],
   "source": [
    "df[\"int_rate\"]=df[\"int_rate\"].astype(float)"
   ]
  },
  {
   "cell_type": "code",
   "execution_count": 28,
   "metadata": {},
   "outputs": [
    {
     "data": {
      "text/plain": [
       "0    10+ years\n",
       "1     < 1 year\n",
       "2    10+ years\n",
       "Name: emp_length, dtype: object"
      ]
     },
     "execution_count": 28,
     "metadata": {},
     "output_type": "execute_result"
    }
   ],
   "source": [
    "df[\"emp_length\"].head(3)"
   ]
  },
  {
   "cell_type": "code",
   "execution_count": 29,
   "metadata": {},
   "outputs": [],
   "source": [
    "#filling the null values \n",
    "df['emp_length']=df['emp_length'].fillna(df['emp_length'][0])"
   ]
  },
  {
   "cell_type": "code",
   "execution_count": 30,
   "metadata": {},
   "outputs": [
    {
     "data": {
      "text/plain": [
       "0"
      ]
     },
     "execution_count": 30,
     "metadata": {},
     "output_type": "execute_result"
    }
   ],
   "source": [
    "df['emp_length'].isna().sum()"
   ]
  },
  {
   "cell_type": "code",
   "execution_count": 31,
   "metadata": {},
   "outputs": [],
   "source": [
    "# using regular expression to extract numeric values from the string\n",
    "import re\n",
    "df['emp_length'] = df['emp_length'].apply(lambda x: re.findall('\\d+', str(x))[0])"
   ]
  },
  {
   "cell_type": "code",
   "execution_count": 32,
   "metadata": {},
   "outputs": [
    {
     "data": {
      "text/plain": [
       "0    10\n",
       "1     1\n",
       "2    10\n",
       "Name: emp_length, dtype: object"
      ]
     },
     "execution_count": 32,
     "metadata": {},
     "output_type": "execute_result"
    }
   ],
   "source": [
    "df[\"emp_length\"].head(3)"
   ]
  },
  {
   "cell_type": "code",
   "execution_count": 33,
   "metadata": {},
   "outputs": [
    {
     "data": {
      "text/plain": [
       "0    10.0\n",
       "1     1.0\n",
       "2    10.0\n",
       "Name: emp_length, dtype: float64"
      ]
     },
     "execution_count": 33,
     "metadata": {},
     "output_type": "execute_result"
    }
   ],
   "source": [
    "#converting it into float from the type object\n",
    "df[\"emp_length\"]=df[\"emp_length\"].astype(float)\n",
    "df[\"emp_length\"].head(3)"
   ]
  },
  {
   "cell_type": "code",
   "execution_count": 34,
   "metadata": {},
   "outputs": [
    {
     "data": {
      "text/plain": [
       "tax_liens                         1\n",
       "delinq_amnt                       1\n",
       "chargeoff_within_12_mths          1\n",
       "acc_now_delinq                    1\n",
       "application_type                  1\n",
       "policy_code                       1\n",
       "collections_12_mths_ex_med        1\n",
       "initial_list_status               1\n",
       "pymnt_plan                        1\n",
       "term                              2\n",
       "pub_rec_bankruptcies              3\n",
       "verification_status               3\n",
       "loan_status                       3\n",
       "pub_rec                           5\n",
       "home_ownership                    5\n",
       "grade                             7\n",
       "inq_last_6mths                    9\n",
       "emp_length                       10\n",
       "delinq_2yrs                      11\n",
       "purpose                          14\n",
       "sub_grade                        35\n",
       "open_acc                         40\n",
       "addr_state                       50\n",
       "issue_d                          55\n",
       "total_acc                        82\n",
       "last_pymnt_d                    101\n",
       "last_credit_pull_d              106\n",
       "int_rate                        371\n",
       "earliest_cr_line                526\n",
       "zip_code                        823\n",
       "loan_amnt                       885\n",
       "funded_amnt                    1041\n",
       "revol_util                     1089\n",
       "out_prncp                      1137\n",
       "out_prncp_inv                  1138\n",
       "total_rec_late_fee             1356\n",
       "collection_recovery_fee        2616\n",
       "dti                            2868\n",
       "recoveries                     4040\n",
       "annual_inc                     5318\n",
       "total_rec_prncp                7976\n",
       "funded_amnt_inv                8205\n",
       "installment                   15383\n",
       "title                         19615\n",
       "revol_bal                     21711\n",
       "emp_title                     28820\n",
       "last_pymnt_amnt               34930\n",
       "total_rec_int                 35148\n",
       "total_pymnt_inv               37518\n",
       "total_pymnt                   37850\n",
       "url                           39717\n",
       "member_id                     39717\n",
       "id                            39717\n",
       "dtype: int64"
      ]
     },
     "execution_count": 34,
     "metadata": {},
     "output_type": "execute_result"
    }
   ],
   "source": [
    "df.nunique().sort_values()"
   ]
  },
  {
   "cell_type": "markdown",
   "metadata": {},
   "source": [
    "There are a few columns having a single unique value or all unique values. \n",
    "These may have nothing much to contribute to the analysis  Some other columns are redundant.\n",
    "Some of these columns are:\n",
    "\n",
    "id :\n",
    "is a random number given to the loan, does not contribute to analysis\n",
    "member_id :\n",
    "is a random number given to the member, does not contribute to analysis\n",
    "pymnt_plan :\n",
    "value for entire dataset is 'n', therefore can be removed.\n",
    "url :\n",
    "is a URL for LC page for corresponding to each memberid, nothing to do with loan default.\n",
    "zip_code :\n",
    "first 3 digits of the 5 digit zip code are visible, also is redundant with addr_state, does not contribute to analysis\n",
    "initial_list_status :\n",
    "value for entire dataset is 'f' out of the possible values, therefore can be removed.\n",
    "policy_code :\n",
    "value for entire dataset is '1', indicating all are publicly available, therefore nothing to contribute for analysis, to be removed.\n",
    "application_type :\n",
    "value for entire dataset is 'INDIVIDUAL', indicating all are individual applications not joint, therefore nothing to contribute for analysis, to be removed.\n",
    "acc_now_delinq :\n",
    "value for entire dataset is '0', therefore can be removed.\n",
    "delinq_amnt :\n",
    "value for entire dataset is '0', therefore can be removed.\n",
    "funded_amnt :\n",
    "value for this column is almost equivalent to loan_amnt. removing to avoid multi colinearity.\n",
    "funded_amnt_inv :\n",
    "value for this column is almost equivalent to funded_amnt. removing to avoid multi colinearity. Also this wont be available at the time of decision making of funding a loan."
   ]
  },
  {
   "cell_type": "code",
   "execution_count": 35,
   "metadata": {},
   "outputs": [
    {
     "data": {
      "text/html": [
       "<div>\n",
       "<style scoped>\n",
       "    .dataframe tbody tr th:only-of-type {\n",
       "        vertical-align: middle;\n",
       "    }\n",
       "\n",
       "    .dataframe tbody tr th {\n",
       "        vertical-align: top;\n",
       "    }\n",
       "\n",
       "    .dataframe thead th {\n",
       "        text-align: right;\n",
       "    }\n",
       "</style>\n",
       "<table border=\"1\" class=\"dataframe\">\n",
       "  <thead>\n",
       "    <tr style=\"text-align: right;\">\n",
       "      <th></th>\n",
       "      <th>id</th>\n",
       "      <th>member_id</th>\n",
       "      <th>loan_amnt</th>\n",
       "      <th>funded_amnt</th>\n",
       "      <th>funded_amnt_inv</th>\n",
       "      <th>term</th>\n",
       "      <th>int_rate</th>\n",
       "      <th>installment</th>\n",
       "      <th>grade</th>\n",
       "      <th>sub_grade</th>\n",
       "      <th>...</th>\n",
       "      <th>addr_state</th>\n",
       "      <th>dti</th>\n",
       "      <th>initial_list_status</th>\n",
       "      <th>collections_12_mths_ex_med</th>\n",
       "      <th>policy_code</th>\n",
       "      <th>acc_now_delinq</th>\n",
       "      <th>chargeoff_within_12_mths</th>\n",
       "      <th>delinq_amnt</th>\n",
       "      <th>pub_rec_bankruptcies</th>\n",
       "      <th>tax_liens</th>\n",
       "    </tr>\n",
       "  </thead>\n",
       "  <tbody>\n",
       "    <tr>\n",
       "      <th>0</th>\n",
       "      <td>1077501</td>\n",
       "      <td>1296599</td>\n",
       "      <td>5000</td>\n",
       "      <td>5000</td>\n",
       "      <td>4975.0</td>\n",
       "      <td>36 months</td>\n",
       "      <td>10.65</td>\n",
       "      <td>162.87</td>\n",
       "      <td>B</td>\n",
       "      <td>B2</td>\n",
       "      <td>...</td>\n",
       "      <td>AZ</td>\n",
       "      <td>27.65</td>\n",
       "      <td>f</td>\n",
       "      <td>0.0</td>\n",
       "      <td>1</td>\n",
       "      <td>0</td>\n",
       "      <td>0.0</td>\n",
       "      <td>0</td>\n",
       "      <td>0.0</td>\n",
       "      <td>0.0</td>\n",
       "    </tr>\n",
       "    <tr>\n",
       "      <th>1</th>\n",
       "      <td>1077430</td>\n",
       "      <td>1314167</td>\n",
       "      <td>2500</td>\n",
       "      <td>2500</td>\n",
       "      <td>2500.0</td>\n",
       "      <td>60 months</td>\n",
       "      <td>15.27</td>\n",
       "      <td>59.83</td>\n",
       "      <td>C</td>\n",
       "      <td>C4</td>\n",
       "      <td>...</td>\n",
       "      <td>GA</td>\n",
       "      <td>1.00</td>\n",
       "      <td>f</td>\n",
       "      <td>0.0</td>\n",
       "      <td>1</td>\n",
       "      <td>0</td>\n",
       "      <td>0.0</td>\n",
       "      <td>0</td>\n",
       "      <td>0.0</td>\n",
       "      <td>0.0</td>\n",
       "    </tr>\n",
       "    <tr>\n",
       "      <th>2</th>\n",
       "      <td>1077175</td>\n",
       "      <td>1313524</td>\n",
       "      <td>2400</td>\n",
       "      <td>2400</td>\n",
       "      <td>2400.0</td>\n",
       "      <td>36 months</td>\n",
       "      <td>15.96</td>\n",
       "      <td>84.33</td>\n",
       "      <td>C</td>\n",
       "      <td>C5</td>\n",
       "      <td>...</td>\n",
       "      <td>IL</td>\n",
       "      <td>8.72</td>\n",
       "      <td>f</td>\n",
       "      <td>0.0</td>\n",
       "      <td>1</td>\n",
       "      <td>0</td>\n",
       "      <td>0.0</td>\n",
       "      <td>0</td>\n",
       "      <td>0.0</td>\n",
       "      <td>0.0</td>\n",
       "    </tr>\n",
       "    <tr>\n",
       "      <th>3</th>\n",
       "      <td>1076863</td>\n",
       "      <td>1277178</td>\n",
       "      <td>10000</td>\n",
       "      <td>10000</td>\n",
       "      <td>10000.0</td>\n",
       "      <td>36 months</td>\n",
       "      <td>13.49</td>\n",
       "      <td>339.31</td>\n",
       "      <td>C</td>\n",
       "      <td>C1</td>\n",
       "      <td>...</td>\n",
       "      <td>CA</td>\n",
       "      <td>20.00</td>\n",
       "      <td>f</td>\n",
       "      <td>0.0</td>\n",
       "      <td>1</td>\n",
       "      <td>0</td>\n",
       "      <td>0.0</td>\n",
       "      <td>0</td>\n",
       "      <td>0.0</td>\n",
       "      <td>0.0</td>\n",
       "    </tr>\n",
       "    <tr>\n",
       "      <th>4</th>\n",
       "      <td>1075358</td>\n",
       "      <td>1311748</td>\n",
       "      <td>3000</td>\n",
       "      <td>3000</td>\n",
       "      <td>3000.0</td>\n",
       "      <td>60 months</td>\n",
       "      <td>12.69</td>\n",
       "      <td>67.79</td>\n",
       "      <td>B</td>\n",
       "      <td>B5</td>\n",
       "      <td>...</td>\n",
       "      <td>OR</td>\n",
       "      <td>17.94</td>\n",
       "      <td>f</td>\n",
       "      <td>0.0</td>\n",
       "      <td>1</td>\n",
       "      <td>0</td>\n",
       "      <td>0.0</td>\n",
       "      <td>0</td>\n",
       "      <td>0.0</td>\n",
       "      <td>0.0</td>\n",
       "    </tr>\n",
       "    <tr>\n",
       "      <th>...</th>\n",
       "      <td>...</td>\n",
       "      <td>...</td>\n",
       "      <td>...</td>\n",
       "      <td>...</td>\n",
       "      <td>...</td>\n",
       "      <td>...</td>\n",
       "      <td>...</td>\n",
       "      <td>...</td>\n",
       "      <td>...</td>\n",
       "      <td>...</td>\n",
       "      <td>...</td>\n",
       "      <td>...</td>\n",
       "      <td>...</td>\n",
       "      <td>...</td>\n",
       "      <td>...</td>\n",
       "      <td>...</td>\n",
       "      <td>...</td>\n",
       "      <td>...</td>\n",
       "      <td>...</td>\n",
       "      <td>...</td>\n",
       "      <td>...</td>\n",
       "    </tr>\n",
       "    <tr>\n",
       "      <th>39712</th>\n",
       "      <td>92187</td>\n",
       "      <td>92174</td>\n",
       "      <td>2500</td>\n",
       "      <td>2500</td>\n",
       "      <td>1075.0</td>\n",
       "      <td>36 months</td>\n",
       "      <td>8.07</td>\n",
       "      <td>78.42</td>\n",
       "      <td>A</td>\n",
       "      <td>A4</td>\n",
       "      <td>...</td>\n",
       "      <td>CO</td>\n",
       "      <td>11.33</td>\n",
       "      <td>f</td>\n",
       "      <td>NaN</td>\n",
       "      <td>1</td>\n",
       "      <td>0</td>\n",
       "      <td>NaN</td>\n",
       "      <td>0</td>\n",
       "      <td>NaN</td>\n",
       "      <td>NaN</td>\n",
       "    </tr>\n",
       "    <tr>\n",
       "      <th>39713</th>\n",
       "      <td>90665</td>\n",
       "      <td>90607</td>\n",
       "      <td>8500</td>\n",
       "      <td>8500</td>\n",
       "      <td>875.0</td>\n",
       "      <td>36 months</td>\n",
       "      <td>10.28</td>\n",
       "      <td>275.38</td>\n",
       "      <td>C</td>\n",
       "      <td>C1</td>\n",
       "      <td>...</td>\n",
       "      <td>NC</td>\n",
       "      <td>6.40</td>\n",
       "      <td>f</td>\n",
       "      <td>NaN</td>\n",
       "      <td>1</td>\n",
       "      <td>0</td>\n",
       "      <td>NaN</td>\n",
       "      <td>0</td>\n",
       "      <td>NaN</td>\n",
       "      <td>NaN</td>\n",
       "    </tr>\n",
       "    <tr>\n",
       "      <th>39714</th>\n",
       "      <td>90395</td>\n",
       "      <td>90390</td>\n",
       "      <td>5000</td>\n",
       "      <td>5000</td>\n",
       "      <td>1325.0</td>\n",
       "      <td>36 months</td>\n",
       "      <td>8.07</td>\n",
       "      <td>156.84</td>\n",
       "      <td>A</td>\n",
       "      <td>A4</td>\n",
       "      <td>...</td>\n",
       "      <td>MA</td>\n",
       "      <td>2.30</td>\n",
       "      <td>f</td>\n",
       "      <td>NaN</td>\n",
       "      <td>1</td>\n",
       "      <td>0</td>\n",
       "      <td>NaN</td>\n",
       "      <td>0</td>\n",
       "      <td>NaN</td>\n",
       "      <td>NaN</td>\n",
       "    </tr>\n",
       "    <tr>\n",
       "      <th>39715</th>\n",
       "      <td>90376</td>\n",
       "      <td>89243</td>\n",
       "      <td>5000</td>\n",
       "      <td>5000</td>\n",
       "      <td>650.0</td>\n",
       "      <td>36 months</td>\n",
       "      <td>7.43</td>\n",
       "      <td>155.38</td>\n",
       "      <td>A</td>\n",
       "      <td>A2</td>\n",
       "      <td>...</td>\n",
       "      <td>MD</td>\n",
       "      <td>3.72</td>\n",
       "      <td>f</td>\n",
       "      <td>NaN</td>\n",
       "      <td>1</td>\n",
       "      <td>0</td>\n",
       "      <td>NaN</td>\n",
       "      <td>0</td>\n",
       "      <td>NaN</td>\n",
       "      <td>NaN</td>\n",
       "    </tr>\n",
       "    <tr>\n",
       "      <th>39716</th>\n",
       "      <td>87023</td>\n",
       "      <td>86999</td>\n",
       "      <td>7500</td>\n",
       "      <td>7500</td>\n",
       "      <td>800.0</td>\n",
       "      <td>36 months</td>\n",
       "      <td>13.75</td>\n",
       "      <td>255.43</td>\n",
       "      <td>E</td>\n",
       "      <td>E2</td>\n",
       "      <td>...</td>\n",
       "      <td>MA</td>\n",
       "      <td>14.29</td>\n",
       "      <td>f</td>\n",
       "      <td>NaN</td>\n",
       "      <td>1</td>\n",
       "      <td>0</td>\n",
       "      <td>NaN</td>\n",
       "      <td>0</td>\n",
       "      <td>NaN</td>\n",
       "      <td>NaN</td>\n",
       "    </tr>\n",
       "  </tbody>\n",
       "</table>\n",
       "<p>39717 rows × 32 columns</p>\n",
       "</div>"
      ],
      "text/plain": [
       "            id  member_id  loan_amnt  funded_amnt  funded_amnt_inv  \\\n",
       "0      1077501    1296599       5000         5000           4975.0   \n",
       "1      1077430    1314167       2500         2500           2500.0   \n",
       "2      1077175    1313524       2400         2400           2400.0   \n",
       "3      1076863    1277178      10000        10000          10000.0   \n",
       "4      1075358    1311748       3000         3000           3000.0   \n",
       "...        ...        ...        ...          ...              ...   \n",
       "39712    92187      92174       2500         2500           1075.0   \n",
       "39713    90665      90607       8500         8500            875.0   \n",
       "39714    90395      90390       5000         5000           1325.0   \n",
       "39715    90376      89243       5000         5000            650.0   \n",
       "39716    87023      86999       7500         7500            800.0   \n",
       "\n",
       "             term  int_rate  installment grade sub_grade  ... addr_state  \\\n",
       "0       36 months     10.65       162.87     B        B2  ...         AZ   \n",
       "1       60 months     15.27        59.83     C        C4  ...         GA   \n",
       "2       36 months     15.96        84.33     C        C5  ...         IL   \n",
       "3       36 months     13.49       339.31     C        C1  ...         CA   \n",
       "4       60 months     12.69        67.79     B        B5  ...         OR   \n",
       "...           ...       ...          ...   ...       ...  ...        ...   \n",
       "39712   36 months      8.07        78.42     A        A4  ...         CO   \n",
       "39713   36 months     10.28       275.38     C        C1  ...         NC   \n",
       "39714   36 months      8.07       156.84     A        A4  ...         MA   \n",
       "39715   36 months      7.43       155.38     A        A2  ...         MD   \n",
       "39716   36 months     13.75       255.43     E        E2  ...         MA   \n",
       "\n",
       "         dti initial_list_status  collections_12_mths_ex_med policy_code  \\\n",
       "0      27.65                   f                         0.0           1   \n",
       "1       1.00                   f                         0.0           1   \n",
       "2       8.72                   f                         0.0           1   \n",
       "3      20.00                   f                         0.0           1   \n",
       "4      17.94                   f                         0.0           1   \n",
       "...      ...                 ...                         ...         ...   \n",
       "39712  11.33                   f                         NaN           1   \n",
       "39713   6.40                   f                         NaN           1   \n",
       "39714   2.30                   f                         NaN           1   \n",
       "39715   3.72                   f                         NaN           1   \n",
       "39716  14.29                   f                         NaN           1   \n",
       "\n",
       "      acc_now_delinq chargeoff_within_12_mths delinq_amnt  \\\n",
       "0                  0                      0.0           0   \n",
       "1                  0                      0.0           0   \n",
       "2                  0                      0.0           0   \n",
       "3                  0                      0.0           0   \n",
       "4                  0                      0.0           0   \n",
       "...              ...                      ...         ...   \n",
       "39712              0                      NaN           0   \n",
       "39713              0                      NaN           0   \n",
       "39714              0                      NaN           0   \n",
       "39715              0                      NaN           0   \n",
       "39716              0                      NaN           0   \n",
       "\n",
       "      pub_rec_bankruptcies tax_liens  \n",
       "0                      0.0       0.0  \n",
       "1                      0.0       0.0  \n",
       "2                      0.0       0.0  \n",
       "3                      0.0       0.0  \n",
       "4                      0.0       0.0  \n",
       "...                    ...       ...  \n",
       "39712                  NaN       NaN  \n",
       "39713                  NaN       NaN  \n",
       "39714                  NaN       NaN  \n",
       "39715                  NaN       NaN  \n",
       "39716                  NaN       NaN  \n",
       "\n",
       "[39717 rows x 32 columns]"
      ]
     },
     "execution_count": 35,
     "metadata": {},
     "output_type": "execute_result"
    }
   ],
   "source": [
    "df.drop([\n",
    "  \"delinq_2yrs\",\n",
    "  \"earliest_cr_line\",\n",
    "  \"inq_last_6mths\",\n",
    "  \"open_acc\",\n",
    "  \"pub_rec\",\n",
    "  \"revol_bal\",\n",
    "  \"revol_util\",\n",
    "  \"total_acc\",\n",
    "  \"out_prncp\",\n",
    "  \"out_prncp_inv\",\n",
    "  \"total_pymnt\",\n",
    "  \"total_pymnt_inv\",\n",
    "  \"total_rec_prncp\",\n",
    "  \"total_rec_int\",\n",
    "  \"total_rec_late_fee\",\n",
    "  \"recoveries\",\n",
    "  \"collection_recovery_fee\",\n",
    "  \"last_pymnt_d\",\n",
    "  \"last_pymnt_amnt\",\n",
    "  \"last_credit_pull_d\",\n",
    "  \"application_type\"],axis=1)"
   ]
  },
  {
   "cell_type": "code",
   "execution_count": 36,
   "metadata": {},
   "outputs": [
    {
     "name": "stdout",
     "output_type": "stream",
     "text": [
      "<class 'pandas.core.frame.DataFrame'>\n",
      "RangeIndex: 39717 entries, 0 to 39716\n",
      "Data columns (total 53 columns):\n",
      " #   Column                      Non-Null Count  Dtype  \n",
      "---  ------                      --------------  -----  \n",
      " 0   id                          39717 non-null  int64  \n",
      " 1   member_id                   39717 non-null  int64  \n",
      " 2   loan_amnt                   39717 non-null  int64  \n",
      " 3   funded_amnt                 39717 non-null  int64  \n",
      " 4   funded_amnt_inv             39717 non-null  float64\n",
      " 5   term                        39717 non-null  object \n",
      " 6   int_rate                    39717 non-null  float64\n",
      " 7   installment                 39717 non-null  float64\n",
      " 8   grade                       39717 non-null  object \n",
      " 9   sub_grade                   39717 non-null  object \n",
      " 10  emp_title                   37258 non-null  object \n",
      " 11  emp_length                  39717 non-null  float64\n",
      " 12  home_ownership              39717 non-null  object \n",
      " 13  annual_inc                  39717 non-null  float64\n",
      " 14  verification_status         39717 non-null  object \n",
      " 15  issue_d                     39717 non-null  object \n",
      " 16  loan_status                 39717 non-null  object \n",
      " 17  pymnt_plan                  39717 non-null  object \n",
      " 18  url                         39717 non-null  object \n",
      " 19  purpose                     39717 non-null  object \n",
      " 20  title                       39706 non-null  object \n",
      " 21  zip_code                    39717 non-null  object \n",
      " 22  addr_state                  39717 non-null  object \n",
      " 23  dti                         39717 non-null  float64\n",
      " 24  delinq_2yrs                 39717 non-null  int64  \n",
      " 25  earliest_cr_line            39717 non-null  object \n",
      " 26  inq_last_6mths              39717 non-null  int64  \n",
      " 27  open_acc                    39717 non-null  int64  \n",
      " 28  pub_rec                     39717 non-null  int64  \n",
      " 29  revol_bal                   39717 non-null  int64  \n",
      " 30  revol_util                  39667 non-null  object \n",
      " 31  total_acc                   39717 non-null  int64  \n",
      " 32  initial_list_status         39717 non-null  object \n",
      " 33  out_prncp                   39717 non-null  float64\n",
      " 34  out_prncp_inv               39717 non-null  float64\n",
      " 35  total_pymnt                 39717 non-null  float64\n",
      " 36  total_pymnt_inv             39717 non-null  float64\n",
      " 37  total_rec_prncp             39717 non-null  float64\n",
      " 38  total_rec_int               39717 non-null  float64\n",
      " 39  total_rec_late_fee          39717 non-null  float64\n",
      " 40  recoveries                  39717 non-null  float64\n",
      " 41  collection_recovery_fee     39717 non-null  float64\n",
      " 42  last_pymnt_d                39646 non-null  object \n",
      " 43  last_pymnt_amnt             39717 non-null  float64\n",
      " 44  last_credit_pull_d          39715 non-null  object \n",
      " 45  collections_12_mths_ex_med  39661 non-null  float64\n",
      " 46  policy_code                 39717 non-null  int64  \n",
      " 47  application_type            39717 non-null  object \n",
      " 48  acc_now_delinq              39717 non-null  int64  \n",
      " 49  chargeoff_within_12_mths    39661 non-null  float64\n",
      " 50  delinq_amnt                 39717 non-null  int64  \n",
      " 51  pub_rec_bankruptcies        39020 non-null  float64\n",
      " 52  tax_liens                   39678 non-null  float64\n",
      "dtypes: float64(20), int64(13), object(20)\n",
      "memory usage: 16.1+ MB\n"
     ]
    }
   ],
   "source": [
    "df.info()"
   ]
  },
  {
   "cell_type": "code",
   "execution_count": 37,
   "metadata": {},
   "outputs": [],
   "source": [
    "df = df.drop(['title', 'url', 'zip_code', 'addr_state'], axis=1)"
   ]
  },
  {
   "cell_type": "code",
   "execution_count": 38,
   "metadata": {},
   "outputs": [
    {
     "data": {
      "text/plain": [
       "Fully Paid     32950\n",
       "Charged Off     5627\n",
       "Current         1140\n",
       "Name: loan_status, dtype: int64"
      ]
     },
     "execution_count": 38,
     "metadata": {},
     "output_type": "execute_result"
    }
   ],
   "source": [
    "df['loan_status'] = df['loan_status'].astype('category')\n",
    "df['loan_status'].value_counts()"
   ]
  },
  {
   "cell_type": "code",
   "execution_count": 39,
   "metadata": {},
   "outputs": [
    {
     "data": {
      "text/plain": [
       "0    32950\n",
       "1     5627\n",
       "Name: loan_status, dtype: int64"
      ]
     },
     "execution_count": 39,
     "metadata": {},
     "output_type": "execute_result"
    }
   ],
   "source": [
    "# filtering only fully paid or charged-off as current in loan_status consits only few values so mapping it in only 2 labels\n",
    "df = df[df['loan_status'] != 'Current']\n",
    "df['loan_status'] = df['loan_status'].apply(lambda x: 0 if x=='Fully Paid' else 1)\n",
    "# converting loan_status to integer type\n",
    "df['loan_status'] = df['loan_status'].apply(lambda x: pd.to_numeric(x))\n",
    "# summarising the values\n",
    "df['loan_status'].value_counts()"
   ]
  },
  {
   "cell_type": "markdown",
   "metadata": {},
   "source": [
    "# Univariate and bivariate analysis"
   ]
  },
  {
   "cell_type": "code",
   "execution_count": 40,
   "metadata": {},
   "outputs": [
    {
     "data": {
      "text/plain": [
       "0.15"
      ]
     },
     "execution_count": 40,
     "metadata": {},
     "output_type": "execute_result"
    }
   ],
   "source": [
    "# default rate\n",
    "round(np.mean(df['loan_status']),2)"
   ]
  },
  {
   "cell_type": "markdown",
   "metadata": {},
   "source": [
    "The overall default rate is about 15%."
   ]
  },
  {
   "cell_type": "code",
   "execution_count": 41,
   "metadata": {},
   "outputs": [
    {
     "data": {
      "text/plain": [
       "Index(['id', 'member_id', 'loan_amnt', 'funded_amnt', 'funded_amnt_inv',\n",
       "       'term', 'int_rate', 'installment', 'grade', 'sub_grade', 'emp_title',\n",
       "       'emp_length', 'home_ownership', 'annual_inc', 'verification_status',\n",
       "       'issue_d', 'loan_status', 'pymnt_plan', 'purpose', 'dti', 'delinq_2yrs',\n",
       "       'earliest_cr_line', 'inq_last_6mths', 'open_acc', 'pub_rec',\n",
       "       'revol_bal', 'revol_util', 'total_acc', 'initial_list_status',\n",
       "       'out_prncp', 'out_prncp_inv', 'total_pymnt', 'total_pymnt_inv',\n",
       "       'total_rec_prncp', 'total_rec_int', 'total_rec_late_fee', 'recoveries',\n",
       "       'collection_recovery_fee', 'last_pymnt_d', 'last_pymnt_amnt',\n",
       "       'last_credit_pull_d', 'collections_12_mths_ex_med', 'policy_code',\n",
       "       'application_type', 'acc_now_delinq', 'chargeoff_within_12_mths',\n",
       "       'delinq_amnt', 'pub_rec_bankruptcies', 'tax_liens'],\n",
       "      dtype='object')"
      ]
     },
     "execution_count": 41,
     "metadata": {},
     "output_type": "execute_result"
    }
   ],
   "source": [
    "df.columns"
   ]
  },
  {
   "cell_type": "code",
   "execution_count": 42,
   "metadata": {},
   "outputs": [
    {
     "data": {
      "image/png": "[encoded data removed]",
      "text/plain": [
       "<Figure size 432x288 with 1 Axes>"
      ]
     },
     "metadata": {
      "needs_background": "light"
     },
     "output_type": "display_data"
    }
   ],
   "source": [
    "# plotting default rates across grade of the loan\n",
    "import seaborn as sns\n",
    "sns.barplot(x='grade', y='loan_status', data=df)\n",
    "plt.show()"
   ]
  },
  {
   "cell_type": "code",
   "execution_count": 43,
   "metadata": {},
   "outputs": [
    {
     "data": {
      "text/plain": [
       "<matplotlib.axes._subplots.AxesSubplot at 0x191c76c5ec8>"
      ]
     },
     "execution_count": 43,
     "metadata": {},
     "output_type": "execute_result"
    },
    {
     "data": {
      "image/png": "[encoded data removed]",
      "text/plain": [
       "<Figure size 432x288 with 1 Axes>"
      ]
     },
     "metadata": {
      "needs_background": "light"
     },
     "output_type": "display_data"
    }
   ],
   "source": [
    "# plotting term across grade of the loan\n",
    "sns.barplot(x='term', y='loan_status', data=df)"
   ]
  },
  {
   "cell_type": "code",
   "execution_count": 44,
   "metadata": {},
   "outputs": [
    {
     "data": {
      "text/plain": [
       "<matplotlib.axes._subplots.AxesSubplot at 0x191c7686248>"
      ]
     },
     "execution_count": 44,
     "metadata": {},
     "output_type": "execute_result"
    },
    {
     "data": {
      "image/png": "[encoded data removed]",
      "text/plain": [
       "<Figure size 1440x720 with 1 Axes>"
      ]
     },
     "metadata": {
      "needs_background": "light"
     },
     "output_type": "display_data"
    }
   ],
   "source": [
    "#comapre subgrade with the loan status\n",
    "plt.figure(figsize=(20, 10))\n",
    "sns.barplot(x='sub_grade', y='loan_status', data=df)"
   ]
  },
  {
   "cell_type": "code",
   "execution_count": 45,
   "metadata": {},
   "outputs": [
    {
     "data": {
      "text/html": [
       "<div>\n",
       "<style scoped>\n",
       "    .dataframe tbody tr th:only-of-type {\n",
       "        vertical-align: middle;\n",
       "    }\n",
       "\n",
       "    .dataframe tbody tr th {\n",
       "        vertical-align: top;\n",
       "    }\n",
       "\n",
       "    .dataframe thead th {\n",
       "        text-align: right;\n",
       "    }\n",
       "</style>\n",
       "<table border=\"1\" class=\"dataframe\">\n",
       "  <thead>\n",
       "    <tr style=\"text-align: right;\">\n",
       "      <th></th>\n",
       "      <th>id</th>\n",
       "      <th>member_id</th>\n",
       "      <th>loan_amnt</th>\n",
       "      <th>funded_amnt</th>\n",
       "      <th>funded_amnt_inv</th>\n",
       "      <th>term</th>\n",
       "      <th>int_rate</th>\n",
       "      <th>installment</th>\n",
       "      <th>grade</th>\n",
       "      <th>sub_grade</th>\n",
       "      <th>...</th>\n",
       "      <th>last_pymnt_amnt</th>\n",
       "      <th>last_credit_pull_d</th>\n",
       "      <th>collections_12_mths_ex_med</th>\n",
       "      <th>policy_code</th>\n",
       "      <th>application_type</th>\n",
       "      <th>acc_now_delinq</th>\n",
       "      <th>chargeoff_within_12_mths</th>\n",
       "      <th>delinq_amnt</th>\n",
       "      <th>pub_rec_bankruptcies</th>\n",
       "      <th>tax_liens</th>\n",
       "    </tr>\n",
       "  </thead>\n",
       "  <tbody>\n",
       "    <tr>\n",
       "      <th>0</th>\n",
       "      <td>1077501</td>\n",
       "      <td>1296599</td>\n",
       "      <td>5000</td>\n",
       "      <td>5000</td>\n",
       "      <td>4975.0</td>\n",
       "      <td>36 months</td>\n",
       "      <td>10.65</td>\n",
       "      <td>162.87</td>\n",
       "      <td>B</td>\n",
       "      <td>B2</td>\n",
       "      <td>...</td>\n",
       "      <td>171.62</td>\n",
       "      <td>May-16</td>\n",
       "      <td>0.0</td>\n",
       "      <td>1</td>\n",
       "      <td>INDIVIDUAL</td>\n",
       "      <td>0</td>\n",
       "      <td>0.0</td>\n",
       "      <td>0</td>\n",
       "      <td>0.0</td>\n",
       "      <td>0.0</td>\n",
       "    </tr>\n",
       "    <tr>\n",
       "      <th>1</th>\n",
       "      <td>1077430</td>\n",
       "      <td>1314167</td>\n",
       "      <td>2500</td>\n",
       "      <td>2500</td>\n",
       "      <td>2500.0</td>\n",
       "      <td>60 months</td>\n",
       "      <td>15.27</td>\n",
       "      <td>59.83</td>\n",
       "      <td>C</td>\n",
       "      <td>C4</td>\n",
       "      <td>...</td>\n",
       "      <td>119.66</td>\n",
       "      <td>Sep-13</td>\n",
       "      <td>0.0</td>\n",
       "      <td>1</td>\n",
       "      <td>INDIVIDUAL</td>\n",
       "      <td>0</td>\n",
       "      <td>0.0</td>\n",
       "      <td>0</td>\n",
       "      <td>0.0</td>\n",
       "      <td>0.0</td>\n",
       "    </tr>\n",
       "  </tbody>\n",
       "</table>\n",
       "<p>2 rows × 49 columns</p>\n",
       "</div>"
      ],
      "text/plain": [
       "        id  member_id  loan_amnt  funded_amnt  funded_amnt_inv        term  \\\n",
       "0  1077501    1296599       5000         5000           4975.0   36 months   \n",
       "1  1077430    1314167       2500         2500           2500.0   60 months   \n",
       "\n",
       "   int_rate  installment grade sub_grade  ... last_pymnt_amnt  \\\n",
       "0     10.65       162.87     B        B2  ...          171.62   \n",
       "1     15.27        59.83     C        C4  ...          119.66   \n",
       "\n",
       "   last_credit_pull_d collections_12_mths_ex_med  policy_code  \\\n",
       "0              May-16                        0.0            1   \n",
       "1              Sep-13                        0.0            1   \n",
       "\n",
       "  application_type acc_now_delinq  chargeoff_within_12_mths delinq_amnt  \\\n",
       "0       INDIVIDUAL              0                       0.0           0   \n",
       "1       INDIVIDUAL              0                       0.0           0   \n",
       "\n",
       "  pub_rec_bankruptcies  tax_liens  \n",
       "0                  0.0        0.0  \n",
       "1                  0.0        0.0  \n",
       "\n",
       "[2 rows x 49 columns]"
      ]
     },
     "execution_count": 45,
     "metadata": {},
     "output_type": "execute_result"
    }
   ],
   "source": [
    "df.head(2)"
   ]
  },
  {
   "cell_type": "code",
   "execution_count": 46,
   "metadata": {},
   "outputs": [
    {
     "data": {
      "text/plain": [
       "<matplotlib.axes._subplots.AxesSubplot at 0x191c874c248>"
      ]
     },
     "execution_count": 46,
     "metadata": {},
     "output_type": "execute_result"
    },
    {
     "data": {
      "image/png": "[encoded data removed]",
      "text/plain": [
       "<Figure size 1440x720 with 1 Axes>"
      ]
     },
     "metadata": {
      "needs_background": "light"
     },
     "output_type": "display_data"
    }
   ],
   "source": [
    "# plotting ststus across grade of the loan\n",
    "plt.figure(figsize=(20, 10))\n",
    "sns.barplot(x='grade', y='loan_status', data=df)"
   ]
  },
  {
   "cell_type": "code",
   "execution_count": 47,
   "metadata": {},
   "outputs": [
    {
     "data": {
      "text/plain": [
       "<matplotlib.axes._subplots.AxesSubplot at 0x191c8393f08>"
      ]
     },
     "execution_count": 47,
     "metadata": {},
     "output_type": "execute_result"
    },
    {
     "data": {
      "image/png": "[encoded data removed]",
      "text/plain": [
       "<Figure size 432x288 with 1 Axes>"
      ]
     },
     "metadata": {
      "needs_background": "light"
     },
     "output_type": "display_data"
    }
   ],
   "source": [
    "sns.barplot(x='application_type', y='loan_status', data=df)"
   ]
  },
  {
   "cell_type": "code",
   "execution_count": 48,
   "metadata": {},
   "outputs": [
    {
     "data": {
      "text/plain": [
       "<matplotlib.axes._subplots.AxesSubplot at 0x191c8687608>"
      ]
     },
     "execution_count": 48,
     "metadata": {},
     "output_type": "execute_result"
    },
    {
     "data": {
      "image/png": "[encoded data removed]",
      "text/plain": [
       "<Figure size 432x288 with 1 Axes>"
      ]
     },
     "metadata": {
      "needs_background": "light"
     },
     "output_type": "display_data"
    }
   ],
   "source": [
    "sns.barplot(x='home_ownership', y='loan_status', data=df)"
   ]
  },
  {
   "cell_type": "code",
   "execution_count": 49,
   "metadata": {},
   "outputs": [
    {
     "data": {
      "text/plain": [
       "Index(['id', 'member_id', 'loan_amnt', 'funded_amnt', 'funded_amnt_inv',\n",
       "       'term', 'int_rate', 'installment', 'grade', 'sub_grade', 'emp_title',\n",
       "       'emp_length', 'home_ownership', 'annual_inc', 'verification_status',\n",
       "       'issue_d', 'loan_status', 'pymnt_plan', 'purpose', 'dti', 'delinq_2yrs',\n",
       "       'earliest_cr_line', 'inq_last_6mths', 'open_acc', 'pub_rec',\n",
       "       'revol_bal', 'revol_util', 'total_acc', 'initial_list_status',\n",
       "       'out_prncp', 'out_prncp_inv', 'total_pymnt', 'total_pymnt_inv',\n",
       "       'total_rec_prncp', 'total_rec_int', 'total_rec_late_fee', 'recoveries',\n",
       "       'collection_recovery_fee', 'last_pymnt_d', 'last_pymnt_amnt',\n",
       "       'last_credit_pull_d', 'collections_12_mths_ex_med', 'policy_code',\n",
       "       'application_type', 'acc_now_delinq', 'chargeoff_within_12_mths',\n",
       "       'delinq_amnt', 'pub_rec_bankruptcies', 'tax_liens'],\n",
       "      dtype='object')"
      ]
     },
     "execution_count": 49,
     "metadata": {},
     "output_type": "execute_result"
    }
   ],
   "source": [
    "df.columns"
   ]
  },
  {
   "cell_type": "code",
   "execution_count": 52,
   "metadata": {},
   "outputs": [
    {
     "data": {
      "text/plain": [
       "<matplotlib.axes._subplots.AxesSubplot at 0x191c7367648>"
      ]
     },
     "execution_count": 52,
     "metadata": {},
     "output_type": "execute_result"
    },
    {
     "data": {
      "image/png": "[encoded data removed]",
      "text/plain": [
       "<Figure size 1152x432 with 1 Axes>"
      ]
     },
     "metadata": {
      "needs_background": "light"
     },
     "output_type": "display_data"
    }
   ],
   "source": [
    "# loan amount: the median loan amount is around 10,000\n",
    "plt.figure(figsize=(16, 6))\n",
    "sns.distplot(df['loan_amnt'])"
   ]
  },
  {
   "cell_type": "code",
   "execution_count": 53,
   "metadata": {},
   "outputs": [
    {
     "data": {
      "text/html": [
       "<div>\n",
       "<style scoped>\n",
       "    .dataframe tbody tr th:only-of-type {\n",
       "        vertical-align: middle;\n",
       "    }\n",
       "\n",
       "    .dataframe tbody tr th {\n",
       "        vertical-align: top;\n",
       "    }\n",
       "\n",
       "    .dataframe thead th {\n",
       "        text-align: right;\n",
       "    }\n",
       "</style>\n",
       "<table border=\"1\" class=\"dataframe\">\n",
       "  <thead>\n",
       "    <tr style=\"text-align: right;\">\n",
       "      <th></th>\n",
       "      <th>count</th>\n",
       "      <th>mean</th>\n",
       "      <th>std</th>\n",
       "      <th>min</th>\n",
       "      <th>25%</th>\n",
       "      <th>50%</th>\n",
       "      <th>75%</th>\n",
       "      <th>max</th>\n",
       "    </tr>\n",
       "    <tr>\n",
       "      <th>loan_status</th>\n",
       "      <th></th>\n",
       "      <th></th>\n",
       "      <th></th>\n",
       "      <th></th>\n",
       "      <th></th>\n",
       "      <th></th>\n",
       "      <th></th>\n",
       "      <th></th>\n",
       "    </tr>\n",
       "  </thead>\n",
       "  <tbody>\n",
       "    <tr>\n",
       "      <th>0</th>\n",
       "      <td>32950.0</td>\n",
       "      <td>10866.455994</td>\n",
       "      <td>7199.629493</td>\n",
       "      <td>500.0</td>\n",
       "      <td>5200.0</td>\n",
       "      <td>9600.0</td>\n",
       "      <td>15000.0</td>\n",
       "      <td>35000.0</td>\n",
       "    </tr>\n",
       "    <tr>\n",
       "      <th>1</th>\n",
       "      <td>5627.0</td>\n",
       "      <td>12104.385108</td>\n",
       "      <td>8085.732038</td>\n",
       "      <td>900.0</td>\n",
       "      <td>5600.0</td>\n",
       "      <td>10000.0</td>\n",
       "      <td>16500.0</td>\n",
       "      <td>35000.0</td>\n",
       "    </tr>\n",
       "  </tbody>\n",
       "</table>\n",
       "</div>"
      ],
      "text/plain": [
       "               count          mean          std    min     25%      50%  \\\n",
       "loan_status                                                               \n",
       "0            32950.0  10866.455994  7199.629493  500.0  5200.0   9600.0   \n",
       "1             5627.0  12104.385108  8085.732038  900.0  5600.0  10000.0   \n",
       "\n",
       "                 75%      max  \n",
       "loan_status                    \n",
       "0            15000.0  35000.0  \n",
       "1            16500.0  35000.0  "
      ]
     },
     "execution_count": 53,
     "metadata": {},
     "output_type": "execute_result"
    }
   ],
   "source": [
    "#Most of the loans granted are below 15000 (75 percentile value)\n",
    "df.groupby('loan_status')['loan_amnt'].describe()"
   ]
  },
  {
   "cell_type": "code",
   "execution_count": 54,
   "metadata": {},
   "outputs": [],
   "source": [
    "# binning loan amount\n",
    "def loan_amount(n):\n",
    "    if n < 5000:\n",
    "        return 0\n",
    "    elif n >=5000 and n < 15000:\n",
    "        return 1\n",
    "    elif n >= 15000 and n < 25000:\n",
    "        return 2\n",
    "    else:\n",
    "        return 3\n",
    "df['loan_amnt'] = df['loan_amnt'].apply(lambda x: loan_amount(x))"
   ]
  },
  {
   "cell_type": "code",
   "execution_count": 55,
   "metadata": {},
   "outputs": [
    {
     "data": {
      "text/plain": [
       "1    20675\n",
       "2     7696\n",
       "0     7444\n",
       "3     2762\n",
       "Name: loan_amnt, dtype: int64"
      ]
     },
     "execution_count": 55,
     "metadata": {},
     "output_type": "execute_result"
    }
   ],
   "source": [
    "df['loan_amnt'].value_counts()"
   ]
  },
  {
   "cell_type": "code",
   "execution_count": 56,
   "metadata": {},
   "outputs": [],
   "source": [
    "df['funded_amnt_inv'] = df['funded_amnt_inv'].apply(lambda x: loan_amount(x))"
   ]
  },
  {
   "cell_type": "code",
   "execution_count": 57,
   "metadata": {},
   "outputs": [
    {
     "data": {
      "text/plain": [
       "1    21038\n",
       "0     9407\n",
       "2     6771\n",
       "3     1361\n",
       "Name: funded_amnt_inv, dtype: int64"
      ]
     },
     "execution_count": 57,
     "metadata": {},
     "output_type": "execute_result"
    }
   ],
   "source": [
    "df['funded_amnt_inv'].value_counts()"
   ]
  },
  {
   "cell_type": "code",
   "execution_count": 58,
   "metadata": {},
   "outputs": [
    {
     "data": {
      "text/html": [
       "<div>\n",
       "<style scoped>\n",
       "    .dataframe tbody tr th:only-of-type {\n",
       "        vertical-align: middle;\n",
       "    }\n",
       "\n",
       "    .dataframe tbody tr th {\n",
       "        vertical-align: top;\n",
       "    }\n",
       "\n",
       "    .dataframe thead th {\n",
       "        text-align: right;\n",
       "    }\n",
       "</style>\n",
       "<table border=\"1\" class=\"dataframe\">\n",
       "  <thead>\n",
       "    <tr style=\"text-align: right;\">\n",
       "      <th></th>\n",
       "      <th>count</th>\n",
       "      <th>mean</th>\n",
       "      <th>std</th>\n",
       "      <th>min</th>\n",
       "      <th>25%</th>\n",
       "      <th>50%</th>\n",
       "      <th>75%</th>\n",
       "      <th>max</th>\n",
       "    </tr>\n",
       "    <tr>\n",
       "      <th>loan_status</th>\n",
       "      <th></th>\n",
       "      <th></th>\n",
       "      <th></th>\n",
       "      <th></th>\n",
       "      <th></th>\n",
       "      <th></th>\n",
       "      <th></th>\n",
       "      <th></th>\n",
       "    </tr>\n",
       "  </thead>\n",
       "  <tbody>\n",
       "    <tr>\n",
       "      <th>0</th>\n",
       "      <td>32950.0</td>\n",
       "      <td>11.609761</td>\n",
       "      <td>3.599964</td>\n",
       "      <td>5.42</td>\n",
       "      <td>8.49</td>\n",
       "      <td>11.49</td>\n",
       "      <td>13.99</td>\n",
       "      <td>24.11</td>\n",
       "    </tr>\n",
       "    <tr>\n",
       "      <th>1</th>\n",
       "      <td>5627.0</td>\n",
       "      <td>13.820432</td>\n",
       "      <td>3.654413</td>\n",
       "      <td>5.42</td>\n",
       "      <td>11.31</td>\n",
       "      <td>13.61</td>\n",
       "      <td>16.40</td>\n",
       "      <td>24.40</td>\n",
       "    </tr>\n",
       "  </tbody>\n",
       "</table>\n",
       "</div>"
      ],
      "text/plain": [
       "               count       mean       std   min    25%    50%    75%    max\n",
       "loan_status                                                                \n",
       "0            32950.0  11.609761  3.599964  5.42   8.49  11.49  13.99  24.11\n",
       "1             5627.0  13.820432  3.654413  5.42  11.31  13.61  16.40  24.40"
      ]
     },
     "execution_count": 58,
     "metadata": {},
     "output_type": "execute_result"
    }
   ],
   "source": [
    "#Overall, the intrest rate varies from 5.42% to 24.4% with average intrest rate of 11.49%.\n",
    "df.groupby('loan_status')['int_rate'].describe()"
   ]
  },
  {
   "cell_type": "code",
   "execution_count": 59,
   "metadata": {},
   "outputs": [],
   "source": [
    "def int_rate(n):\n",
    "    if n <= 10:\n",
    "        return 0\n",
    "    elif n > 10 and n <=15:\n",
    "        return 1\n",
    "    else:\n",
    "        return 2    \n",
    "df['int_rate'] = df['int_rate'].apply(lambda x: int_rate(x))"
   ]
  },
  {
   "cell_type": "code",
   "execution_count": 60,
   "metadata": {},
   "outputs": [
    {
     "data": {
      "text/plain": [
       "<matplotlib.axes._subplots.AxesSubplot at 0x191c641e2c8>"
      ]
     },
     "execution_count": 60,
     "metadata": {},
     "output_type": "execute_result"
    },
    {
     "data": {
      "image/png": "[encoded data removed]",
      "text/plain": [
       "<Figure size 432x288 with 1 Axes>"
      ]
     },
     "metadata": {
      "needs_background": "light"
     },
     "output_type": "display_data"
    }
   ],
   "source": [
    "# comparing default rates across rates of interest\n",
    "# high interest rates (n>15) is more, as expected\n",
    "sns.barplot(x='int_rate', y='loan_status', data=df)"
   ]
  },
  {
   "cell_type": "code",
   "execution_count": 61,
   "metadata": {},
   "outputs": [],
   "source": [
    "# debt to income ratio\n",
    "def dti(n):\n",
    "    if n <= 10:\n",
    "        return 'low'\n",
    "    elif n > 10 and n <=20:\n",
    "        return 'medium'\n",
    "    else:\n",
    "        return 'high'\n",
    "    \n",
    "\n",
    "df['dti'] = df['dti'].apply(lambda x: dti(x))"
   ]
  },
  {
   "cell_type": "code",
   "execution_count": 62,
   "metadata": {},
   "outputs": [
    {
     "data": {
      "text/plain": [
       "<matplotlib.axes._subplots.AxesSubplot at 0x191c645d088>"
      ]
     },
     "execution_count": 62,
     "metadata": {},
     "output_type": "execute_result"
    },
    {
     "data": {
      "image/png": "[encoded data removed]",
      "text/plain": [
       "<Figure size 432x288 with 1 Axes>"
      ]
     },
     "metadata": {
      "needs_background": "light"
     },
     "output_type": "display_data"
    }
   ],
   "source": [
    "# comparing default rates across debt to income ratio high dti translates into higher default rates\n",
    "sns.barplot(x='dti', y='loan_status', data=df)"
   ]
  },
  {
   "cell_type": "code",
   "execution_count": 63,
   "metadata": {},
   "outputs": [],
   "source": [
    "# funded amount\n",
    "def funded_amount(n):\n",
    "    if n <= 5000:\n",
    "        return 'low'\n",
    "    elif n > 5000 and n <=15000:\n",
    "        return 'medium'\n",
    "    else:\n",
    "        return 'high'   \n",
    "df['funded_amnt'] = df['funded_amnt'].apply(lambda x: funded_amount(x))"
   ]
  },
  {
   "cell_type": "code",
   "execution_count": 64,
   "metadata": {},
   "outputs": [
    {
     "data": {
      "text/plain": [
       "<matplotlib.axes._subplots.AxesSubplot at 0x191c636f608>"
      ]
     },
     "execution_count": 64,
     "metadata": {},
     "output_type": "execute_result"
    },
    {
     "data": {
      "image/png": "[encoded data removed]",
      "text/plain": [
       "<Figure size 432x288 with 1 Axes>"
      ]
     },
     "metadata": {
      "needs_background": "light"
     },
     "output_type": "display_data"
    }
   ],
   "source": [
    "sns.barplot(x='funded_amnt', y='loan_status', data=df)"
   ]
  },
  {
   "cell_type": "code",
   "execution_count": 65,
   "metadata": {},
   "outputs": [],
   "source": [
    "# annual income\n",
    "def annual_income(n):\n",
    "    if n <= 50000:\n",
    "        return 0\n",
    "    elif n > 50000 and n <=100000:\n",
    "        return 1\n",
    "    elif n > 100000 and n <=150000:\n",
    "        return 2\n",
    "    else:\n",
    "        return 3\n",
    "df['annual_inc'] = df['annual_inc'].apply(lambda x: annual_income(x))"
   ]
  },
  {
   "cell_type": "code",
   "execution_count": 66,
   "metadata": {},
   "outputs": [
    {
     "data": {
      "text/plain": [
       "<matplotlib.axes._subplots.AxesSubplot at 0x191c63ad4c8>"
      ]
     },
     "execution_count": 66,
     "metadata": {},
     "output_type": "execute_result"
    },
    {
     "data": {
      "image/png": "[encoded data removed]",
      "text/plain": [
       "<Figure size 432x288 with 1 Axes>"
      ]
     },
     "metadata": {
      "needs_background": "light"
     },
     "output_type": "display_data"
    }
   ],
   "source": [
    "#annual income and loan status\n",
    "#lower the annual income(n<50000), higher the default rate\n",
    "sns.barplot(x='annual_inc', y='loan_status', data=df)"
   ]
  },
  {
   "cell_type": "code",
   "execution_count": 67,
   "metadata": {},
   "outputs": [
    {
     "data": {
      "text/html": [
       "<div>\n",
       "<style scoped>\n",
       "    .dataframe tbody tr th:only-of-type {\n",
       "        vertical-align: middle;\n",
       "    }\n",
       "\n",
       "    .dataframe tbody tr th {\n",
       "        vertical-align: top;\n",
       "    }\n",
       "\n",
       "    .dataframe thead th {\n",
       "        text-align: right;\n",
       "    }\n",
       "</style>\n",
       "<table border=\"1\" class=\"dataframe\">\n",
       "  <thead>\n",
       "    <tr style=\"text-align: right;\">\n",
       "      <th></th>\n",
       "      <th>id</th>\n",
       "      <th>member_id</th>\n",
       "      <th>loan_amnt</th>\n",
       "      <th>funded_amnt</th>\n",
       "      <th>funded_amnt_inv</th>\n",
       "      <th>term</th>\n",
       "      <th>int_rate</th>\n",
       "      <th>installment</th>\n",
       "      <th>grade</th>\n",
       "      <th>sub_grade</th>\n",
       "      <th>...</th>\n",
       "      <th>last_pymnt_amnt</th>\n",
       "      <th>last_credit_pull_d</th>\n",
       "      <th>collections_12_mths_ex_med</th>\n",
       "      <th>policy_code</th>\n",
       "      <th>application_type</th>\n",
       "      <th>acc_now_delinq</th>\n",
       "      <th>chargeoff_within_12_mths</th>\n",
       "      <th>delinq_amnt</th>\n",
       "      <th>pub_rec_bankruptcies</th>\n",
       "      <th>tax_liens</th>\n",
       "    </tr>\n",
       "  </thead>\n",
       "  <tbody>\n",
       "    <tr>\n",
       "      <th>0</th>\n",
       "      <td>1077501</td>\n",
       "      <td>1296599</td>\n",
       "      <td>1</td>\n",
       "      <td>low</td>\n",
       "      <td>0</td>\n",
       "      <td>36 months</td>\n",
       "      <td>1</td>\n",
       "      <td>162.87</td>\n",
       "      <td>B</td>\n",
       "      <td>B2</td>\n",
       "      <td>...</td>\n",
       "      <td>171.62</td>\n",
       "      <td>May-16</td>\n",
       "      <td>0.0</td>\n",
       "      <td>1</td>\n",
       "      <td>INDIVIDUAL</td>\n",
       "      <td>0</td>\n",
       "      <td>0.0</td>\n",
       "      <td>0</td>\n",
       "      <td>0.0</td>\n",
       "      <td>0.0</td>\n",
       "    </tr>\n",
       "    <tr>\n",
       "      <th>1</th>\n",
       "      <td>1077430</td>\n",
       "      <td>1314167</td>\n",
       "      <td>0</td>\n",
       "      <td>low</td>\n",
       "      <td>0</td>\n",
       "      <td>60 months</td>\n",
       "      <td>2</td>\n",
       "      <td>59.83</td>\n",
       "      <td>C</td>\n",
       "      <td>C4</td>\n",
       "      <td>...</td>\n",
       "      <td>119.66</td>\n",
       "      <td>Sep-13</td>\n",
       "      <td>0.0</td>\n",
       "      <td>1</td>\n",
       "      <td>INDIVIDUAL</td>\n",
       "      <td>0</td>\n",
       "      <td>0.0</td>\n",
       "      <td>0</td>\n",
       "      <td>0.0</td>\n",
       "      <td>0.0</td>\n",
       "    </tr>\n",
       "    <tr>\n",
       "      <th>2</th>\n",
       "      <td>1077175</td>\n",
       "      <td>1313524</td>\n",
       "      <td>0</td>\n",
       "      <td>low</td>\n",
       "      <td>0</td>\n",
       "      <td>36 months</td>\n",
       "      <td>2</td>\n",
       "      <td>84.33</td>\n",
       "      <td>C</td>\n",
       "      <td>C5</td>\n",
       "      <td>...</td>\n",
       "      <td>649.91</td>\n",
       "      <td>May-16</td>\n",
       "      <td>0.0</td>\n",
       "      <td>1</td>\n",
       "      <td>INDIVIDUAL</td>\n",
       "      <td>0</td>\n",
       "      <td>0.0</td>\n",
       "      <td>0</td>\n",
       "      <td>0.0</td>\n",
       "      <td>0.0</td>\n",
       "    </tr>\n",
       "    <tr>\n",
       "      <th>3</th>\n",
       "      <td>1076863</td>\n",
       "      <td>1277178</td>\n",
       "      <td>1</td>\n",
       "      <td>medium</td>\n",
       "      <td>1</td>\n",
       "      <td>36 months</td>\n",
       "      <td>1</td>\n",
       "      <td>339.31</td>\n",
       "      <td>C</td>\n",
       "      <td>C1</td>\n",
       "      <td>...</td>\n",
       "      <td>357.48</td>\n",
       "      <td>Apr-16</td>\n",
       "      <td>0.0</td>\n",
       "      <td>1</td>\n",
       "      <td>INDIVIDUAL</td>\n",
       "      <td>0</td>\n",
       "      <td>0.0</td>\n",
       "      <td>0</td>\n",
       "      <td>0.0</td>\n",
       "      <td>0.0</td>\n",
       "    </tr>\n",
       "    <tr>\n",
       "      <th>5</th>\n",
       "      <td>1075269</td>\n",
       "      <td>1311441</td>\n",
       "      <td>1</td>\n",
       "      <td>low</td>\n",
       "      <td>1</td>\n",
       "      <td>36 months</td>\n",
       "      <td>0</td>\n",
       "      <td>156.46</td>\n",
       "      <td>A</td>\n",
       "      <td>A4</td>\n",
       "      <td>...</td>\n",
       "      <td>161.03</td>\n",
       "      <td>Jan-16</td>\n",
       "      <td>0.0</td>\n",
       "      <td>1</td>\n",
       "      <td>INDIVIDUAL</td>\n",
       "      <td>0</td>\n",
       "      <td>0.0</td>\n",
       "      <td>0</td>\n",
       "      <td>0.0</td>\n",
       "      <td>0.0</td>\n",
       "    </tr>\n",
       "  </tbody>\n",
       "</table>\n",
       "<p>5 rows × 49 columns</p>\n",
       "</div>"
      ],
      "text/plain": [
       "        id  member_id  loan_amnt funded_amnt  funded_amnt_inv        term  \\\n",
       "0  1077501    1296599          1         low                0   36 months   \n",
       "1  1077430    1314167          0         low                0   60 months   \n",
       "2  1077175    1313524          0         low                0   36 months   \n",
       "3  1076863    1277178          1      medium                1   36 months   \n",
       "5  1075269    1311441          1         low                1   36 months   \n",
       "\n",
       "   int_rate  installment grade sub_grade  ... last_pymnt_amnt  \\\n",
       "0         1       162.87     B        B2  ...          171.62   \n",
       "1         2        59.83     C        C4  ...          119.66   \n",
       "2         2        84.33     C        C5  ...          649.91   \n",
       "3         1       339.31     C        C1  ...          357.48   \n",
       "5         0       156.46     A        A4  ...          161.03   \n",
       "\n",
       "   last_credit_pull_d collections_12_mths_ex_med  policy_code  \\\n",
       "0              May-16                        0.0            1   \n",
       "1              Sep-13                        0.0            1   \n",
       "2              May-16                        0.0            1   \n",
       "3              Apr-16                        0.0            1   \n",
       "5              Jan-16                        0.0            1   \n",
       "\n",
       "  application_type acc_now_delinq  chargeoff_within_12_mths delinq_amnt  \\\n",
       "0       INDIVIDUAL              0                       0.0           0   \n",
       "1       INDIVIDUAL              0                       0.0           0   \n",
       "2       INDIVIDUAL              0                       0.0           0   \n",
       "3       INDIVIDUAL              0                       0.0           0   \n",
       "5       INDIVIDUAL              0                       0.0           0   \n",
       "\n",
       "  pub_rec_bankruptcies tax_liens  \n",
       "0                  0.0       0.0  \n",
       "1                  0.0       0.0  \n",
       "2                  0.0       0.0  \n",
       "3                  0.0       0.0  \n",
       "5                  0.0       0.0  \n",
       "\n",
       "[5 rows x 49 columns]"
      ]
     },
     "execution_count": 67,
     "metadata": {},
     "output_type": "execute_result"
    }
   ],
   "source": [
    "df.head(5)"
   ]
  },
  {
   "cell_type": "code",
   "execution_count": 68,
   "metadata": {},
   "outputs": [
    {
     "data": {
      "text/plain": [
       "0"
      ]
     },
     "execution_count": 68,
     "metadata": {},
     "output_type": "execute_result"
    }
   ],
   "source": [
    "#filling missing values with the most occuring value in the column i.e using mode\n",
    "df['emp_length']=df[\"emp_length\"].fillna(df[\"emp_length\"].mode())\n",
    "df[\"emp_length\"].isna().sum()"
   ]
  },
  {
   "cell_type": "code",
   "execution_count": 69,
   "metadata": {},
   "outputs": [],
   "source": [
    "def emp_length(n):\n",
    "    if n <= 1:\n",
    "        return 'fresher'\n",
    "    elif n > 1 and n <=3:\n",
    "        return 'junior'\n",
    "    elif n > 3 and n <=7:\n",
    "        return 'senior'\n",
    "    else:\n",
    "        return 'professional'\n",
    "df['emp_length'] = df['emp_length'].apply(lambda x: emp_length(x))"
   ]
  },
  {
   "cell_type": "code",
   "execution_count": 70,
   "metadata": {},
   "outputs": [
    {
     "data": {
      "text/plain": [
       "<matplotlib.axes._subplots.AxesSubplot at 0x191c63e2548>"
      ]
     },
     "execution_count": 70,
     "metadata": {},
     "output_type": "execute_result"
    },
    {
     "data": {
      "image/png": "[encoded data removed]",
      "text/plain": [
       "<Figure size 432x288 with 1 Axes>"
      ]
     },
     "metadata": {
      "needs_background": "light"
     },
     "output_type": "display_data"
    }
   ],
   "source": [
    "#not much variation between any of the labels \n",
    "sns.barplot(x='emp_length', y='loan_status', data=df)"
   ]
  },
  {
   "cell_type": "code",
   "execution_count": 71,
   "metadata": {},
   "outputs": [
    {
     "data": {
      "image/png": "[encoded data removed]",
      "text/plain": [
       "<Figure size 1800x720 with 1 Axes>"
      ]
     },
     "metadata": {
      "needs_background": "light"
     },
     "output_type": "display_data"
    }
   ],
   "source": [
    "# most of the people had taken loan for debt consolidation\n",
    "plt.figure(figsize=(25, 10))\n",
    "sns.countplot(x='purpose', data=df)\n",
    "plt.show()"
   ]
  },
  {
   "cell_type": "code",
   "execution_count": 72,
   "metadata": {},
   "outputs": [
    {
     "data": {
      "text/plain": [
       "array(['credit_card', 'car', 'small_business', 'other', 'wedding',\n",
       "       'debt_consolidation', 'home_improvement', 'major_purchase',\n",
       "       'medical', 'moving', 'vacation', 'house', 'renewable_energy',\n",
       "       'educational'], dtype=object)"
      ]
     },
     "execution_count": 72,
     "metadata": {},
     "output_type": "execute_result"
    }
   ],
   "source": [
    "df.purpose.unique()"
   ]
  },
  {
   "cell_type": "code",
   "execution_count": 73,
   "metadata": {},
   "outputs": [
    {
     "data": {
      "image/png": "[encoded data removed]",
      "text/plain": [
       "<Figure size 1440x1080 with 1 Axes>"
      ]
     },
     "metadata": {
      "needs_background": "light"
     },
     "output_type": "display_data"
    }
   ],
   "source": [
    "plt.figure(figsize=[20, 15])\n",
    "sns.barplot(x='term', y=\"loan_status\", hue='purpose', data=df)\n",
    "plt.show()"
   ]
  },
  {
   "cell_type": "code",
   "execution_count": 74,
   "metadata": {},
   "outputs": [
    {
     "data": {
      "text/plain": [
       "<matplotlib.axes._subplots.AxesSubplot at 0x191c6559788>"
      ]
     },
     "execution_count": 74,
     "metadata": {},
     "output_type": "execute_result"
    },
    {
     "data": {
      "image/png": "[encoded data removed]",
      "text/plain": [
       "<Figure size 1440x1080 with 1 Axes>"
      ]
     },
     "metadata": {
      "needs_background": "light"
     },
     "output_type": "display_data"
    }
   ],
   "source": [
    "plt.figure(figsize=[20, 15])\n",
    "sns.barplot(x='grade', y='loan_status', hue='purpose', data=df)"
   ]
  },
  {
   "cell_type": "code",
   "execution_count": 75,
   "metadata": {},
   "outputs": [
    {
     "data": {
      "text/plain": [
       "A4    2873\n",
       "B3    2825\n",
       "A5    2715\n",
       "B5    2615\n",
       "B4    2437\n",
       "C1    2055\n",
       "B2    2001\n",
       "C2    1931\n",
       "A3    1810\n",
       "B1    1797\n",
       "A2    1508\n",
       "C3    1488\n",
       "D2    1286\n",
       "C4    1206\n",
       "C5    1154\n",
       "A1    1139\n",
       "D3    1116\n",
       "D1     931\n",
       "D4     918\n",
       "D5     834\n",
       "E1     722\n",
       "E2     614\n",
       "E3     516\n",
       "E4     424\n",
       "E5     387\n",
       "F1     305\n",
       "F2     233\n",
       "F3     174\n",
       "F4     151\n",
       "F5     113\n",
       "G1      94\n",
       "G2      77\n",
       "G4      54\n",
       "G3      45\n",
       "G5      29\n",
       "Name: sub_grade, dtype: int64"
      ]
     },
     "execution_count": 75,
     "metadata": {},
     "output_type": "execute_result"
    }
   ],
   "source": [
    "df.sub_grade.value_counts()"
   ]
  },
  {
   "cell_type": "code",
   "execution_count": 77,
   "metadata": {},
   "outputs": [
    {
     "data": {
      "image/png": "[encoded data removed]",
      "text/plain": [
       "<Figure size 720x360 with 1 Axes>"
      ]
     },
     "metadata": {
      "needs_background": "light"
     },
     "output_type": "display_data"
    }
   ],
   "source": [
    "plt.figure(figsize=(10,5))\n",
    "sns.countplot(df['sub_grade'])\n",
    "plt.show()"
   ]
  },
  {
   "cell_type": "code",
   "execution_count": 79,
   "metadata": {},
   "outputs": [
    {
     "data": {
      "text/plain": [
       "debt_consolidation    18055\n",
       "credit_card            5027\n",
       "home_improvement       2875\n",
       "major_purchase         2150\n",
       "Name: purpose, dtype: int64"
      ]
     },
     "execution_count": 79,
     "metadata": {},
     "output_type": "execute_result"
    }
   ],
   "source": [
    "#taking only major purpose\n",
    "mpurposes = [\"credit_card\",\"debt_consolidation\",\"home_improvement\",\"major_purchase\"]\n",
    "df['purpose'].value_counts()"
   ]
  },
  {
   "cell_type": "code",
   "execution_count": 80,
   "metadata": {},
   "outputs": [
    {
     "data": {
      "text/plain": [
       "<matplotlib.axes._subplots.AxesSubplot at 0x191c90664c8>"
      ]
     },
     "execution_count": 80,
     "metadata": {},
     "output_type": "execute_result"
    },
    {
     "data": {
      "image/png": "[encoded data removed]",
      "text/plain": [
       "<Figure size 1440x1080 with 1 Axes>"
      ]
     },
     "metadata": {
      "needs_background": "light"
     },
     "output_type": "display_data"
    }
   ],
   "source": [
    "#Grade A and B loans are safe. \n",
    "#The percentages in full dataset are much higher than percentages in Charged Off loans.\n",
    "#Grade D, E, F, G loans are less safe.\n",
    "plt.figure(figsize=[20, 15])\n",
    "sns.barplot(x='grade', y='loan_status', hue='purpose', data=df)"
   ]
  },
  {
   "cell_type": "code",
   "execution_count": 81,
   "metadata": {},
   "outputs": [
    {
     "data": {
      "text/plain": [
       "<matplotlib.axes._subplots.AxesSubplot at 0x191c9075408>"
      ]
     },
     "execution_count": 81,
     "metadata": {},
     "output_type": "execute_result"
    },
    {
     "data": {
      "image/png": "[encoded data removed]",
      "text/plain": [
       "<Figure size 1440x1080 with 1 Axes>"
      ]
     },
     "metadata": {
      "needs_background": "light"
     },
     "output_type": "display_data"
    }
   ],
   "source": [
    "plt.figure(figsize=[20, 15])\n",
    "sns.barplot(x='loan_amnt', y='loan_status', hue='purpose', data=df)"
   ]
  },
  {
   "cell_type": "code",
   "execution_count": 82,
   "metadata": {},
   "outputs": [
    {
     "name": "stdout",
     "output_type": "stream",
     "text": [
      "US Army              94\n",
      "Bank of America      77\n",
      "IBM                  48\n",
      "Wells Fargo          45\n",
      "Kaiser Permanente    45\n",
      "US Air Force         41\n",
      "AT&T                 41\n",
      "Name: emp_title, dtype: int64\n"
     ]
    }
   ],
   "source": [
    "e_title=df.emp_title.value_counts().head(7)\n",
    "print(e_title)"
   ]
  },
  {
   "cell_type": "code",
   "execution_count": 83,
   "metadata": {},
   "outputs": [
    {
     "data": {
      "image/png": "[encoded data removed]",
      "text/plain": [
       "<Figure size 720x360 with 1 Axes>"
      ]
     },
     "metadata": {
      "needs_background": "light"
     },
     "output_type": "display_data"
    }
   ],
   "source": [
    "#Maximum of the loan takers are from the US Army, then Bank of America follwed by IBM and AT&T.\n",
    "plt.figure(figsize=(10,5))\n",
    "a=sns.barplot(x=e_title.index, y=e_title.values)\n",
    "a.set_ylabel('Count of emp_title')\n",
    "plt.show()"
   ]
  },
  {
   "cell_type": "code",
   "execution_count": 84,
   "metadata": {},
   "outputs": [
    {
     "data": {
      "text/plain": [
       "count    28107.000000\n",
       "mean         0.800939\n",
       "std          0.778300\n",
       "min          0.000000\n",
       "25%          0.000000\n",
       "50%          1.000000\n",
       "75%          1.000000\n",
       "max          3.000000\n",
       "Name: annual_inc, dtype: float64"
      ]
     },
     "execution_count": 84,
     "metadata": {},
     "output_type": "execute_result"
    }
   ],
   "source": [
    "df.annual_inc.describe()"
   ]
  },
  {
   "cell_type": "code",
   "execution_count": 85,
   "metadata": {},
   "outputs": [
    {
     "data": {
      "image/png": "[encoded data removed]",
      "text/plain": [
       "<Figure size 1080x360 with 1 Axes>"
      ]
     },
     "metadata": {
      "needs_background": "light"
     },
     "output_type": "display_data"
    }
   ],
   "source": [
    "plt.figure(figsize=(15, 5))\n",
    "sns.distplot(df['annual_inc'])\n",
    "plt.show()"
   ]
  },
  {
   "cell_type": "code",
   "execution_count": 86,
   "metadata": {},
   "outputs": [
    {
     "data": {
      "text/plain": [
       "Index(['id', 'member_id', 'loan_amnt', 'funded_amnt', 'funded_amnt_inv',\n",
       "       'term', 'int_rate', 'installment', 'grade', 'sub_grade', 'emp_title',\n",
       "       'emp_length', 'home_ownership', 'annual_inc', 'verification_status',\n",
       "       'issue_d', 'loan_status', 'pymnt_plan', 'purpose', 'dti', 'delinq_2yrs',\n",
       "       'earliest_cr_line', 'inq_last_6mths', 'open_acc', 'pub_rec',\n",
       "       'revol_bal', 'revol_util', 'total_acc', 'initial_list_status',\n",
       "       'out_prncp', 'out_prncp_inv', 'total_pymnt', 'total_pymnt_inv',\n",
       "       'total_rec_prncp', 'total_rec_int', 'total_rec_late_fee', 'recoveries',\n",
       "       'collection_recovery_fee', 'last_pymnt_d', 'last_pymnt_amnt',\n",
       "       'last_credit_pull_d', 'collections_12_mths_ex_med', 'policy_code',\n",
       "       'application_type', 'acc_now_delinq', 'chargeoff_within_12_mths',\n",
       "       'delinq_amnt', 'pub_rec_bankruptcies', 'tax_liens'],\n",
       "      dtype='object')"
      ]
     },
     "execution_count": 86,
     "metadata": {},
     "output_type": "execute_result"
    }
   ],
   "source": [
    "df.columns"
   ]
  },
  {
   "cell_type": "code",
   "execution_count": 87,
   "metadata": {},
   "outputs": [
    {
     "data": {
      "text/plain": [
       "count      28107\n",
       "unique         3\n",
       "top       medium\n",
       "freq       13991\n",
       "Name: dti, dtype: object"
      ]
     },
     "execution_count": 87,
     "metadata": {},
     "output_type": "execute_result"
    }
   ],
   "source": [
    "df.dti.describe()"
   ]
  },
  {
   "cell_type": "code",
   "execution_count": 88,
   "metadata": {},
   "outputs": [
    {
     "data": {
      "text/plain": [
       "<matplotlib.axes._subplots.AxesSubplot at 0x191c90336c8>"
      ]
     },
     "execution_count": 88,
     "metadata": {},
     "output_type": "execute_result"
    },
    {
     "data": {
      "image/png": "[encoded data removed]",
      "text/plain": [
       "<Figure size 432x288 with 1 Axes>"
      ]
     },
     "metadata": {
      "needs_background": "light"
     },
     "output_type": "display_data"
    }
   ],
   "source": [
    "sns.barplot(x='dti', y='loan_status',data=df)"
   ]
  },
  {
   "cell_type": "code",
   "execution_count": 89,
   "metadata": {},
   "outputs": [
    {
     "data": {
      "text/plain": [
       "0    0.896396\n",
       "1    0.080727\n",
       "2    0.016153\n",
       "3    0.004554\n",
       "4    0.001423\n",
       "5    0.000463\n",
       "6    0.000213\n",
       "7    0.000071\n",
       "Name: delinq_2yrs, dtype: float64"
      ]
     },
     "execution_count": 89,
     "metadata": {},
     "output_type": "execute_result"
    }
   ],
   "source": [
    "df.delinq_2yrs.value_counts(normalize=True)"
   ]
  },
  {
   "cell_type": "code",
   "execution_count": 90,
   "metadata": {},
   "outputs": [
    {
     "data": {
      "text/plain": [
       "<matplotlib.axes._subplots.AxesSubplot at 0x191c8ce7408>"
      ]
     },
     "execution_count": 90,
     "metadata": {},
     "output_type": "execute_result"
    },
    {
     "data": {
      "image/png": "[encoded data removed]",
      "text/plain": [
       "<Figure size 432x288 with 1 Axes>"
      ]
     },
     "metadata": {
      "needs_background": "light"
     },
     "output_type": "display_data"
    }
   ],
   "source": [
    "#The number of 30+ days past-due incidences of delinquency in the borrower's credit file for the past 2 years values ranges between 0 and 6.\n",
    "sns.barplot(x='delinq_2yrs', y='loan_status',data=df)"
   ]
  },
  {
   "cell_type": "code",
   "execution_count": 91,
   "metadata": {},
   "outputs": [
    {
     "data": {
      "text/plain": [
       "count    28107.000000\n",
       "mean        22.739069\n",
       "std         11.361548\n",
       "min          2.000000\n",
       "25%         14.000000\n",
       "50%         21.000000\n",
       "75%         29.000000\n",
       "max         90.000000\n",
       "Name: total_acc, dtype: float64"
      ]
     },
     "execution_count": 91,
     "metadata": {},
     "output_type": "execute_result"
    }
   ],
   "source": [
    "df.total_acc.describe()"
   ]
  },
  {
   "cell_type": "code",
   "execution_count": 92,
   "metadata": {},
   "outputs": [
    {
     "data": {
      "text/plain": [
       "<matplotlib.axes._subplots.AxesSubplot at 0x191c8ed7248>"
      ]
     },
     "execution_count": 92,
     "metadata": {},
     "output_type": "execute_result"
    },
    {
     "data": {
      "image/png": "[encoded data removed]",
      "text/plain": [
       "<Figure size 1080x360 with 1 Axes>"
      ]
     },
     "metadata": {
      "needs_background": "light"
     },
     "output_type": "display_data"
    }
   ],
   "source": [
    "#The are approx. 22 average credit lines for the borrower's.\n",
    "#There is no big difference between the Charged Off and Fully Paid credit lines\n",
    "plt.figure(figsize=(15,5))\n",
    "sns.boxplot(x=df.total_acc, y=df.loan_status,data=df)"
   ]
  },
  {
   "cell_type": "code",
   "execution_count": 93,
   "metadata": {},
   "outputs": [
    {
     "data": {
      "text/plain": [
       "Dec-14    751\n",
       "Mar-13    742\n",
       "May-13    679\n",
       "Feb-13    664\n",
       "Jan-14    647\n",
       "Name: last_pymnt_d, dtype: int64"
      ]
     },
     "execution_count": 93,
     "metadata": {},
     "output_type": "execute_result"
    }
   ],
   "source": [
    "df.last_pymnt_d.value_counts().head()"
   ]
  },
  {
   "cell_type": "code",
   "execution_count": 94,
   "metadata": {},
   "outputs": [
    {
     "data": {
      "text/plain": [
       "count    28107.000000\n",
       "mean      3013.961718\n",
       "std       4702.488640\n",
       "min          0.000000\n",
       "25%        250.580000\n",
       "50%        654.070000\n",
       "75%       4008.075000\n",
       "max      35613.680000\n",
       "Name: last_pymnt_amnt, dtype: float64"
      ]
     },
     "execution_count": 94,
     "metadata": {},
     "output_type": "execute_result"
    }
   ],
   "source": [
    "df.last_pymnt_amnt.describe()"
   ]
  },
  {
   "cell_type": "code",
   "execution_count": 95,
   "metadata": {},
   "outputs": [
    {
     "data": {
      "text/plain": [
       "0     0\n",
       "6     0\n",
       "10    1\n",
       "Name: annual_inc, dtype: int64"
      ]
     },
     "execution_count": 95,
     "metadata": {},
     "output_type": "execute_result"
    }
   ],
   "source": [
    "df[\"annual_inc\"].head(3)"
   ]
  },
  {
   "cell_type": "code",
   "execution_count": 96,
   "metadata": {},
   "outputs": [
    {
     "data": {
      "text/plain": [
       "<matplotlib.axes._subplots.AxesSubplot at 0x191c9629708>"
      ]
     },
     "execution_count": 96,
     "metadata": {},
     "output_type": "execute_result"
    },
    {
     "data": {
      "image/png": "[encoded data removed]",
      "text/plain": [
       "<Figure size 432x288 with 1 Axes>"
      ]
     },
     "metadata": {
      "needs_background": "light"
     },
     "output_type": "display_data"
    }
   ],
   "source": [
    "#Larger loans generally appear to be given a lower grade, with the median loan amount for a grade G loan being almost 10000 higher than that of a grade A, B, or C loan.\n",
    "df.boxplot(column='loan_amnt', by='grade')"
   ]
  },
  {
   "cell_type": "code",
   "execution_count": 97,
   "metadata": {},
   "outputs": [
    {
     "data": {
      "text/plain": [
       "<matplotlib.axes._subplots.AxesSubplot at 0x191c8fd5148>"
      ]
     },
     "execution_count": 97,
     "metadata": {},
     "output_type": "execute_result"
    },
    {
     "data": {
      "image/png": "[encoded data removed]",
      "text/plain": [
       "<Figure size 432x288 with 1 Axes>"
      ]
     },
     "metadata": {
      "needs_background": "light"
     },
     "output_type": "display_data"
    }
   ],
   "source": [
    "#Higher loan amounts are Verified more often.\n",
    "sns.barplot(x='verification_status', y='loan_amnt', hue=\"loan_status\", data=df, estimator=np.mean)"
   ]
  },
  {
   "cell_type": "code",
   "execution_count": 98,
   "metadata": {},
   "outputs": [
    {
     "data": {
      "text/plain": [
       "<matplotlib.axes._subplots.AxesSubplot at 0x191c9008cc8>"
      ]
     },
     "execution_count": 98,
     "metadata": {},
     "output_type": "execute_result"
    },
    {
     "data": {
      "image/png": "[encoded data removed]",
      "text/plain": [
       "<Figure size 432x288 with 1 Axes>"
      ]
     },
     "metadata": {
      "needs_background": "light"
     },
     "output_type": "display_data"
    }
   ],
   "source": [
    "#Intrest rates are besed on term. Larger amounts were seen to be given for higher term\n",
    "df.boxplot(column='int_rate', by='term')"
   ]
  },
  {
   "cell_type": "code",
   "execution_count": 99,
   "metadata": {},
   "outputs": [
    {
     "data": {
      "text/plain": [
       "<matplotlib.axes._subplots.AxesSubplot at 0x191c96f3a88>"
      ]
     },
     "execution_count": 99,
     "metadata": {},
     "output_type": "execute_result"
    },
    {
     "data": {
      "image/png": "[encoded data removed]",
      "text/plain": [
       "<Figure size 720x360 with 1 Axes>"
      ]
     },
     "metadata": {
      "needs_background": "light"
     },
     "output_type": "display_data"
    }
   ],
   "source": [
    "df.boxplot(column='int_rate', by='sub_grade',figsize=(10,5))"
   ]
  },
  {
   "cell_type": "code",
   "execution_count": 100,
   "metadata": {},
   "outputs": [
    {
     "data": {
      "text/plain": [
       "<matplotlib.axes._subplots.AxesSubplot at 0x191cae8b848>"
      ]
     },
     "execution_count": 100,
     "metadata": {},
     "output_type": "execute_result"
    },
    {
     "data": {
      "image/png": "[encoded data removed]",
      "text/plain": [
       "<Figure size 432x288 with 1 Axes>"
      ]
     },
     "metadata": {
      "needs_background": "light"
     },
     "output_type": "display_data"
    }
   ],
   "source": [
    "#Higher loan amount are associated with lower grade for longer terms\n",
    "sns.barplot(x='grade', y='loan_amnt', hue=\"term\", data=df)"
   ]
  },
  {
   "cell_type": "code",
   "execution_count": 102,
   "metadata": {},
   "outputs": [
    {
     "data": {
      "text/plain": [
       "<matplotlib.axes._subplots.AxesSubplot at 0x191cc176848>"
      ]
     },
     "execution_count": 102,
     "metadata": {},
     "output_type": "execute_result"
    },
    {
     "data": {
      "image/png": "[encoded data removed]",
      "text/plain": [
       "<Figure size 1440x360 with 1 Axes>"
      ]
     },
     "metadata": {
      "needs_background": "light"
     },
     "output_type": "display_data"
    }
   ],
   "source": [
    "plt.figure(figsize=(20,5))\n",
    "sns.barplot(x='sub_grade', y='loan_amnt', hue='loan_status',data=df)"
   ]
  },
  {
   "cell_type": "code",
   "execution_count": 104,
   "metadata": {},
   "outputs": [
    {
     "data": {
      "text/plain": [
       "<matplotlib.axes._subplots.AxesSubplot at 0x191cd409608>"
      ]
     },
     "execution_count": 104,
     "metadata": {},
     "output_type": "execute_result"
    },
    {
     "data": {
      "image/png": "[encoded data removed]",
      "text/plain": [
       "<Figure size 432x288 with 1 Axes>"
      ]
     },
     "metadata": {
      "needs_background": "light"
     },
     "output_type": "display_data"
    }
   ],
   "source": [
    "sns.countplot(y='emp_length',hue='loan_status',data=df)"
   ]
  },
  {
   "cell_type": "code",
   "execution_count": 108,
   "metadata": {},
   "outputs": [
    {
     "data": {
      "text/plain": [
       "array([0, 1, 2, 3, 4], dtype=int64)"
      ]
     },
     "execution_count": 108,
     "metadata": {},
     "output_type": "execute_result"
    }
   ],
   "source": [
    "df.pub_rec.unique()"
   ]
  },
  {
   "cell_type": "code",
   "execution_count": 107,
   "metadata": {},
   "outputs": [
    {
     "data": {
      "text/plain": [
       "<matplotlib.axes._subplots.AxesSubplot at 0x191cd437308>"
      ]
     },
     "execution_count": 107,
     "metadata": {},
     "output_type": "execute_result"
    },
    {
     "data": {
      "image/png": "[encoded data removed]",
      "text/plain": [
       "<Figure size 432x288 with 1 Axes>"
      ]
     },
     "metadata": {
      "needs_background": "light"
     },
     "output_type": "display_data"
    }
   ],
   "source": [
    "sns.barplot(x='pub_rec', y='loan_amnt', hue='loan_status',data=df)"
   ]
  },
  {
   "cell_type": "code",
   "execution_count": 103,
   "metadata": {},
   "outputs": [
    {
     "data": {
      "text/plain": [
       "<matplotlib.axes._subplots.AxesSubplot at 0x191cbfe5b88>"
      ]
     },
     "execution_count": 103,
     "metadata": {},
     "output_type": "execute_result"
    },
    {
     "data": {
      "image/png": "[encoded data removed]",
      "text/plain": [
       "<Figure size 1440x1440 with 2 Axes>"
      ]
     },
     "metadata": {
      "needs_background": "light"
     },
     "output_type": "display_data"
    }
   ],
   "source": [
    "plt.figure(figsize=(20,20))\n",
    "sns.heatmap(df.corr(),annot=True, center=0.5)"
   ]
  },
  {
   "cell_type": "code",
   "execution_count": null,
   "metadata": {},
   "outputs": [],
   "source": []
  }
 ],
 "metadata": {
  "kernelspec": {
   "display_name": "Python 3",
   "language": "python",
   "name": "python3"
  },
  "language_info": {
   "codemirror_mode": {
    "name": "ipython",
    "version": 3
   },
   "file_extension": ".py",
   "mimetype": "text/x-python",
   "name": "python",
   "nbconvert_exporter": "python",
   "pygments_lexer": "ipython3",
   "version": "3.7.7"
  }
 },
 "nbformat": 4,
 "nbformat_minor": 4
}
